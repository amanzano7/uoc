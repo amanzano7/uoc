{
 "cells": [
  {
   "cell_type": "markdown",
   "metadata": {},
   "source": [
    "## Instrucciones para el Laboratorio\n",
    "\n",
    "Para cada ejercicio del laboratorio, se requiere seguir estos pasos:\n",
    "\n",
    "1. **Desarrollo del Pseudocódigo**: Antes de comenzar a programar, elabora un pseudocódigo para cada solución. El pseudocódigo debe detallar la lógica y los pasos necesarios para resolver el problema de manera clara y estructurada. Esto te ayudará a comprender mejor la solución antes de codificarla.\n",
    "\n",
    "2. **Implementación del Programa**: Una vez que tengas el pseudocódigo listo y revisado, procede a programar la solución en Python. Asegúrate de que tu código siga la lógica que has definido en el pseudocódigo y cumpla con los requisitos especificados en cada ejercicio.\n",
    "\n",
    "Recuerda que una buena planificación a través del pseudocódigo facilitará el proceso de programación y te permitirá identificar posibles errores antes de implementar el código."
   ]
  },
  {
   "cell_type": "markdown",
   "metadata": {},
   "source": [
    "## Ejercicio: Transformación de Palabras\n",
    "\n",
    "Dada la lista de palabras:"
   ]
  },
  {
   "cell_type": "code",
   "execution_count": 29,
   "metadata": {},
   "outputs": [],
   "source": [
    "words = ['play', 'filling', 'bar', 'theatre', 'easygoing', 'date', 'lead', 'that', 'story',  'island']"
   ]
  },
  {
   "cell_type": "markdown",
   "metadata": {},
   "source": [
    "1. **Imprimir Letras Mayúsculas**: Escribe un programa que imprima todas las letras de cada palabra en la lista en mayúsculas, separando cada letra por una coma."
   ]
  },
  {
   "cell_type": "code",
   "execution_count": null,
   "metadata": {},
   "outputs": [],
   "source": [
    "#1. Defino lista de palabras\n",
    "#2. Para cada palabra de la lista la convierto en mayusculas e itero\n",
    "#3. Separo cada letra de la palabra con coma\n",
    "#4. Imprimo las palabras con las letras separadas por coma"
   ]
  },
  {
   "cell_type": "code",
   "execution_count": 7,
   "metadata": {},
   "outputs": [
    {
     "name": "stdout",
     "output_type": "stream",
     "text": [
      "P,L,A,Y\n",
      "F,I,L,L,I,N,G\n",
      "B,A,R\n",
      "T,H,E,A,T,R,E\n",
      "E,A,S,Y,G,O,I,N,G\n",
      "D,A,T,E\n",
      "L,E,A,D\n",
      "T,H,A,T\n",
      "S,T,O,R,Y\n",
      "I,S,L,A,N,D\n",
      "P, L, A, Y\n",
      "F, I, L, L, I, N, G\n",
      "B, A, R\n",
      "T, H, E, A, T, R, E\n",
      "E, A, S, Y, G, O, I, N, G\n",
      "D, A, T, E\n",
      "L, E, A, D\n",
      "T, H, A, T\n",
      "S, T, O, R, Y\n",
      "I, S, L, A, N, D\n"
     ]
    }
   ],
   "source": [
    "words = ['play', 'filling', 'bar', 'theatre', 'easygoing', 'date', 'lead', 'that', 'story', 'island']\n",
    "\n",
    "# Solucion con join\n",
    "for word in words:\n",
    "    upper_word = \"\"\n",
    "    upper_word = \",\".join(word.upper())\n",
    "    print(upper_word)\n",
    "\n",
    "# Solucion con index\n",
    "for word in words:\n",
    "    uppercase_letters = \"\"\n",
    "    for index in range(len(word)):\n",
    "        uppercase_letters += word[index].upper()\n",
    "        if index < len(word) - 1:\n",
    "            uppercase_letters += \", \"\n",
    "    print(uppercase_letters)"
   ]
  },
  {
   "cell_type": "markdown",
   "metadata": {},
   "source": [
    "2. **Crear una Nueva Lista**: Genera una nueva lista que contenga solo las palabras que tengan 5 o más letras. Luego, imprime esta nueva lista."
   ]
  },
  {
   "cell_type": "code",
   "execution_count": 11,
   "metadata": {},
   "outputs": [
    {
     "name": "stdout",
     "output_type": "stream",
     "text": [
      "['filling', 'theatre', 'easygoing', 'story', 'island']\n"
     ]
    }
   ],
   "source": [
    "# Creo una nueva lista inicializada vacia\n",
    "# Itero todas las palabras y pego en la lista las que tengan una longitud de mayor o igual que 5\n",
    "# imprimo esa nueva lista\n"
   ]
  },
  {
   "cell_type": "code",
   "execution_count": 9,
   "metadata": {},
   "outputs": [
    {
     "name": "stdout",
     "output_type": "stream",
     "text": [
      "['filling', 'theatre', 'easygoing', 'story', 'island']\n"
     ]
    }
   ],
   "source": [
    "new_list = []\n",
    "for word in words:\n",
    "    if len(word) >= 5:\n",
    "        new_list.append(word)\n",
    "\n",
    "print (new_list)\n"
   ]
  },
  {
   "cell_type": "markdown",
   "metadata": {},
   "source": [
    "3. **Encontrar Palabras que Comienzan con 't'**: Imprime la primera palabra en la lista que comience con la letra 't'. Si no hay ninguna, imprime un mensaje indicando que no se encontró ninguna palabra que empiece con 't'."
   ]
  },
  {
   "cell_type": "code",
   "execution_count": null,
   "metadata": {},
   "outputs": [],
   "source": [
    "# Creo una lista de palabras. La inicializo vacia\n",
    "# Creo una variable que me dice si se ha encontrada una palabra con la condicion de que comience por t\n",
    "# Para cada palabra de la lista \n",
    "    # Si la palabra comienza por 't'\n",
    "            #Imprimo la palabra y cambio la variable a true\n",
    "            #Salgo del bucle\n",
    "    # Si no encuentro ninguna palabra imprimo un mensaje que diga que no se encontro ninguna palabra que comience por 't'"
   ]
  },
  {
   "cell_type": "code",
   "execution_count": 10,
   "metadata": {},
   "outputs": [
    {
     "name": "stdout",
     "output_type": "stream",
     "text": [
      "theatre\n"
     ]
    }
   ],
   "source": [
    "palabras_comenzadas_t = \"\"\n",
    "\n",
    "found = False\n",
    "\n",
    "for word in words:\n",
    "    # Verifico si la palabra empieza por \"t\"\n",
    "    if word.startswith ('t'):\n",
    "        print (word)\n",
    "        found = True\n",
    "        break\n",
    "\n",
    "if not found:\n",
    "        print (\"No se encontro ninguna palabra que comience por 't'.\")\n",
    "    "
   ]
  },
  {
   "cell_type": "markdown",
   "metadata": {},
   "source": [
    "4. **Contar las Vocales**: Escribe un programa que cuente y imprima el número total de vocales en todas las palabras de la lista."
   ]
  },
  {
   "cell_type": "code",
   "execution_count": null,
   "metadata": {},
   "outputs": [],
   "source": [
    "# Defino una variable vocales que inicializo con un 'aeiou'\n",
    "# Defino un contador el cual inicializo en 0\n",
    "# Itero con un for por cada word del grupo words buscando vocales y voy sumando a la variable contador"
   ]
  },
  {
   "cell_type": "code",
   "execution_count": 11,
   "metadata": {},
   "outputs": [
    {
     "name": "stdout",
     "output_type": "stream",
     "text": [
      "19\n"
     ]
    }
   ],
   "source": [
    "vocales = \"a,e,i,o,u\"\n",
    "contador_vocales=0\n",
    "\n",
    "for word in words:\n",
    "    # Recorro cada palabra\n",
    "    for letter in word.lower():\n",
    "        if letter in vocales:\n",
    "        # Si la letra es una vocal sumo 1 al contador\n",
    "            contador_vocales += 1\n",
    "\n",
    "print (contador_vocales)"
   ]
  },
  {
   "cell_type": "markdown",
   "metadata": {},
   "source": [
    "5. **Palabras que Contienen la Letra 'a'**: Crea una nueva lista que contenga solo las palabras que tengan la letra 'a'. Imprime esta nueva lista."
   ]
  },
  {
   "cell_type": "code",
   "execution_count": null,
   "metadata": {},
   "outputs": [],
   "source": [
    "# Crear una lista para ir agregando las palabras que contengan a.inicializo en 0\n",
    "# Itero por todas las palabras y las qe contengan a las pego en la lista"
   ]
  },
  {
   "cell_type": "code",
   "execution_count": 12,
   "metadata": {},
   "outputs": [
    {
     "name": "stdout",
     "output_type": "stream",
     "text": [
      "['play', 'bar', 'theatre', 'easygoing', 'date', 'lead', 'that', 'island']\n"
     ]
    }
   ],
   "source": [
    "palabras_con_a = []\n",
    "\n",
    "for word in words:\n",
    "    if 'a' in word:\n",
    "        palabras_con_a.append (word)\n",
    "        \n",
    "print (palabras_con_a)\n",
    "        "
   ]
  },
  {
   "cell_type": "markdown",
   "metadata": {},
   "source": [
    "6. **Palabras en Orden Inverso**: Imprime la lista de palabras en orden inverso, de la última a la primera."
   ]
  },
  {
   "cell_type": "code",
   "execution_count": null,
   "metadata": {},
   "outputs": [],
   "source": [
    "# Crear una nueva lista con la lista de palabras en orden inverso\n",
    "# Imprimir esta lista"
   ]
  },
  {
   "cell_type": "code",
   "execution_count": 14,
   "metadata": {},
   "outputs": [
    {
     "name": "stdout",
     "output_type": "stream",
     "text": [
      "['island', 'story', 'that', 'lead', 'date', 'easygoing', 'theatre', 'bar', 'filling', 'play']\n",
      "island\n",
      "story\n",
      "that\n",
      "lead\n",
      "date\n",
      "easygoing\n",
      "theatre\n",
      "bar\n",
      "filling\n",
      "play\n"
     ]
    }
   ],
   "source": [
    "# Solucion usando el operador::\n",
    "words_inv = []\n",
    "words_inv = words[::-1]\n",
    "print (words_inv)\n",
    "\n",
    "# Solucion usando for\n",
    "for i in range(len(words) -1, -1, -1):\n",
    "    print(words[i])"
   ]
  },
  {
   "cell_type": "markdown",
   "metadata": {},
   "source": [
    "## Numeros Primos"
   ]
  },
  {
   "cell_type": "markdown",
   "metadata": {},
   "source": [
    "1. **Lista de Números Primos**: \n",
    "   Crea una lista que contenga los números primos entre 1 y 20. Imprime la lista."
   ]
  },
  {
   "cell_type": "code",
   "execution_count": null,
   "metadata": {},
   "outputs": [],
   "source": [
    "# Creo una lista vacia para ir recabando los numeros primos. Inicializo vacia\n",
    "# Para cada numero de 2 a 20\n",
    "    # inicializo una variable para definir si el numero es primo o no. inicializo en Flase\n",
    "    # Para cada numero desde 2 hasta la raiz cuadrada del numero actual\n",
    "        # Si el numero actual se puede dividir sin dejar residuo\n",
    "            # Cambiar variable a False y salir del bucle\n",
    "    # Si la variable sigue siendo true, agregar el numero a la lista de primos\n",
    "# Imprimir la lista de numeros primos encontrados\n"
   ]
  },
  {
   "cell_type": "code",
   "execution_count": 20,
   "metadata": {},
   "outputs": [
    {
     "name": "stdout",
     "output_type": "stream",
     "text": [
      "[2, 3, 5, 7, 11, 13, 17, 19]\n"
     ]
    }
   ],
   "source": [
    "primes = []\n",
    "for num in range (2,21):\n",
    "    is_prime = True\n",
    "    for i in range (2, int(num**0.5)+1):\n",
    "        if num % i == 0:\n",
    "            is_prime = False\n",
    "            break\n",
    "    if is_prime == True:\n",
    "        primes.append (num)\n",
    "print (primes)"
   ]
  },
  {
   "cell_type": "markdown",
   "metadata": {},
   "source": [
    "2. **Contar Números Primos**: \n",
    "   Escribe un programa que cuente cuántos números primos hay entre 1 y 30. Imprime el total."
   ]
  },
  {
   "cell_type": "code",
   "execution_count": null,
   "metadata": {},
   "outputs": [],
   "source": [
    "# Inicializar un contador en 0 para los números primos.\n",
    "# Para cada numero de 2 a 30\n",
    "    # inicializo una variable para definir si el numero es primo o no. inicializo en False\n",
    "    # Para cada numero desde 2 hasta la raiz cuadrada del numero actual\n",
    "        # Si el numero actual se puede dividir sin dejar residuo\n",
    "            # Cambiar variable a False y salir del bucle\n",
    "    # Si la variable sigue siendo true, agregar el numero a la lista de primos\n",
    "# Imprimir la lista de numeros primos encontrados\n"
   ]
  },
  {
   "cell_type": "code",
   "execution_count": 22,
   "metadata": {},
   "outputs": [
    {
     "name": "stdout",
     "output_type": "stream",
     "text": [
      "La cantidad de primos entre 0 y 30 son 10\n"
     ]
    }
   ],
   "source": [
    "primes_count = 0\n",
    "for num in range (2,31):\n",
    "    is_prime = True\n",
    "    for i in range (2, int(num**0.5)+1):\n",
    "        if num % i == 0:\n",
    "            is_prime = False\n",
    "            break\n",
    "    if is_prime == True:\n",
    "        primes_count += 1\n",
    "print (f\"La cantidad de primos entre 0 y 30 son {primes_count}\")"
   ]
  },
  {
   "cell_type": "markdown",
   "metadata": {},
   "source": [
    "3. **Suma de Números Primos**: \n",
    "   Crea un programa que calcule la suma de los números primos menores de 50 y la imprima."
   ]
  },
  {
   "cell_type": "code",
   "execution_count": null,
   "metadata": {},
   "outputs": [],
   "source": [
    "# Inicializar un contador en 0 para los números primos.\n",
    "# Inicializar lista de primos\n",
    "# Inicializar una variable para la suma en 0\n",
    "# Para cada numero de 2 a 50\n",
    "    # inicializo una variable para definir si el numero es primo o no. inicializo en False\n",
    "    # Para cada numero desde 2 hasta la raiz cuadrada del numero actual\n",
    "        # Si el numero actual se puede dividir sin dejar residuo\n",
    "            # Cambiar variable a False y salir del bucle\n",
    "    # Si la variable sigue siendo true, agregar el numero a la lista de primos\n",
    "# Imprimir la lista de numeros primos encontrados"
   ]
  },
  {
   "cell_type": "code",
   "execution_count": 28,
   "metadata": {},
   "outputs": [
    {
     "name": "stdout",
     "output_type": "stream",
     "text": [
      "La cantidad de primos entre 0 y 50 son 15\n",
      "Los primos entre 0 y 50 son [2, 3, 5, 7, 11, 13, 17, 19, 23, 29, 31, 37, 41, 43, 47]\n",
      "La suma de estos 15 numeros primos es 328\n"
     ]
    }
   ],
   "source": [
    "primes_count = 0\n",
    "primes = []\n",
    "sum_primes = 0\n",
    "for num in range (2,51):\n",
    "    is_prime = True\n",
    "    for i in range (2, int(num**0.5)+1):\n",
    "        if num % i == 0:\n",
    "            is_prime = False\n",
    "            break\n",
    "    if is_prime == True:\n",
    "        primes_count += 1\n",
    "        primes.append (num)\n",
    "        sum_primes += num\n",
    "        \n",
    "print (f\"La cantidad de primos entre 0 y 50 son {primes_count}\")\n",
    "print (f\"Los primos entre 0 y 50 son {primes}\")\n",
    "print (f\"La suma de estos {primes_count} numeros primos es {sum_primes}\")"
   ]
  },
  {
   "cell_type": "markdown",
   "metadata": {},
   "source": [
    "4. **Verificar si un Número es Primo**: \n",
    "   Escribe un programa que pida al usuario un número y que determine si es primo. Imprime un mensaje indicando si el número es primo o no."
   ]
  },
  {
   "cell_type": "code",
   "execution_count": null,
   "metadata": {},
   "outputs": [],
   "source": [
    "# Pedir al usuario que ingrese un numero\n",
    "# Inicializar una variable para ver si ese numero es primo. Lo inicializo en True\n",
    "# Si el numero es menor que 2\n",
    "    # cambiar la variable a False\n",
    "    # Para cada numero de 2 hasta el numero ingresado\n",
    "    # inicializo una variable para definir si el numero es primo o no. inicializo en False\n",
    "    # Para cada numero desde 2 hasta la raiz cuadrada del numero ingresado\n",
    "        # Si el numero ingresado se puede dividir sin dejar residuo\n",
    "            # Cambiar variable a False y salir del bucle\n",
    "    # Si la variable sigue siendo true imprimo que el numero es primo, de lo contrario imprimir que no es primo"
   ]
  },
  {
   "cell_type": "code",
   "execution_count": 48,
   "metadata": {},
   "outputs": [
    {
     "name": "stdin",
     "output_type": "stream",
     "text": [
      "Ingresa un numero:  1989\n"
     ]
    },
    {
     "name": "stdout",
     "output_type": "stream",
     "text": [
      "1989 no es un numero primo\n"
     ]
    }
   ],
   "source": [
    "num = int(input(\"Ingresa un numero: \"))\n",
    "is_prime = True\n",
    "\n",
    "if num < 2:\n",
    "    is_prime = False\n",
    "\n",
    "for i in range(2, int(num**0.5)+1):\n",
    "    if num % i == 0:\n",
    "        is_prime = False\n",
    "        break\n",
    "\n",
    "if is_prime == True:\n",
    "    print(f\"{num} es un numero primo\")\n",
    "else:\n",
    "    print(f\"{num} no es un numero primo\")"
   ]
  },
  {
   "cell_type": "markdown",
   "metadata": {},
   "source": [
    "5. **Primos Menores a un Número**: \n",
    "   Crea un programa que pida al usuario un número y que imprima todos los números primos menores que ese número."
   ]
  },
  {
   "cell_type": "code",
   "execution_count": null,
   "metadata": {},
   "outputs": [],
   "source": [
    "# Pedir al usuario que ingrese un numero\n",
    "# Inicializar una variable para ver si ese numero es primo. Lo inicializo en True\n",
    "# Inicializar un contador en 0 para los números primos.\n",
    "# Si el numero es menor que 2\n",
    "    # cambiar la variable a False\n",
    "    # Para cada numero de 2 hasta el numero ingresado\n",
    "    # inicializo una variable para definir si el numero es primo o no. inicializo en False\n",
    "    # Para cada numero desde 2 hasta la raiz cuadrada del numero ingresado\n",
    "        # Si el numero ingresado se puede dividir sin dejar residuo\n",
    "            # Cambiar variable a False y salir del bucle\n",
    "    # Si la variable sigue siendo true sumo al contador, de lo contrario no sumo\n",
    "    # imprimo el contador"
   ]
  },
  {
   "cell_type": "code",
   "execution_count": 61,
   "metadata": {},
   "outputs": [
    {
     "name": "stdin",
     "output_type": "stream",
     "text": [
      "Ingresa un numero:  2050\n"
     ]
    },
    {
     "name": "stdout",
     "output_type": "stream",
     "text": [
      "La cantidad de primos menores que 2050 son 309 y son [2, 3, 5, 7, 11, 13, 17, 19, 23, 29, 31, 37, 41, 43, 47, 53, 59, 61, 67, 71, 73, 79, 83, 89, 97, 101, 103, 107, 109, 113, 127, 131, 137, 139, 149, 151, 157, 163, 167, 173, 179, 181, 191, 193, 197, 199, 211, 223, 227, 229, 233, 239, 241, 251, 257, 263, 269, 271, 277, 281, 283, 293, 307, 311, 313, 317, 331, 337, 347, 349, 353, 359, 367, 373, 379, 383, 389, 397, 401, 409, 419, 421, 431, 433, 439, 443, 449, 457, 461, 463, 467, 479, 487, 491, 499, 503, 509, 521, 523, 541, 547, 557, 563, 569, 571, 577, 587, 593, 599, 601, 607, 613, 617, 619, 631, 641, 643, 647, 653, 659, 661, 673, 677, 683, 691, 701, 709, 719, 727, 733, 739, 743, 751, 757, 761, 769, 773, 787, 797, 809, 811, 821, 823, 827, 829, 839, 853, 857, 859, 863, 877, 881, 883, 887, 907, 911, 919, 929, 937, 941, 947, 953, 967, 971, 977, 983, 991, 997, 1009, 1013, 1019, 1021, 1031, 1033, 1039, 1049, 1051, 1061, 1063, 1069, 1087, 1091, 1093, 1097, 1103, 1109, 1117, 1123, 1129, 1151, 1153, 1163, 1171, 1181, 1187, 1193, 1201, 1213, 1217, 1223, 1229, 1231, 1237, 1249, 1259, 1277, 1279, 1283, 1289, 1291, 1297, 1301, 1303, 1307, 1319, 1321, 1327, 1361, 1367, 1373, 1381, 1399, 1409, 1423, 1427, 1429, 1433, 1439, 1447, 1451, 1453, 1459, 1471, 1481, 1483, 1487, 1489, 1493, 1499, 1511, 1523, 1531, 1543, 1549, 1553, 1559, 1567, 1571, 1579, 1583, 1597, 1601, 1607, 1609, 1613, 1619, 1621, 1627, 1637, 1657, 1663, 1667, 1669, 1693, 1697, 1699, 1709, 1721, 1723, 1733, 1741, 1747, 1753, 1759, 1777, 1783, 1787, 1789, 1801, 1811, 1823, 1831, 1847, 1861, 1867, 1871, 1873, 1877, 1879, 1889, 1901, 1907, 1913, 1931, 1933, 1949, 1951, 1973, 1979, 1987, 1993, 1997, 1999, 2003, 2011, 2017, 2027, 2029, 2039]\n"
     ]
    }
   ],
   "source": [
    "num = int(input(\"Ingresa un numero: \"))\n",
    "primes_count = 0\n",
    "primes = []\n",
    "\n",
    "for n in range(2, num):\n",
    "    is_prime = True\n",
    "    for i in range (2, int(n**0.5) + 1):\n",
    "        if n % i == 0:\n",
    "           is_prime = False\n",
    "           break\n",
    "\n",
    "    if is_prime:\n",
    "        primes_count += 1\n",
    "        primes.append (n)\n",
    "    \n",
    "\n",
    "print(f\"La cantidad de primos menores que {num} son {primes_count} y son {primes}\")"
   ]
  },
  {
   "cell_type": "markdown",
   "metadata": {},
   "source": [
    "6. **Lista de Primos en un Rango**: \n",
    "   Crea un programa que genere e imprima los números primos entre 10 y 50."
   ]
  },
  {
   "cell_type": "code",
   "execution_count": null,
   "metadata": {},
   "outputs": [],
   "source": [
    "# Inicializar una lista vacía para guardar los números primos.\n",
    "# Para cada número desde 10 hasta 50:\n",
    "#    a. Inicializar una variable para saber si el número es primo\n",
    "#    b. Para cada número desde 2 hasta la raíz cuadrada del número\n",
    "#    actual:\n",
    "#       i. Si el número actual se puede dividir sin dejar residuo:\n",
    "#          - Cambiar es_primo a False y salir del bucle.\n",
    "#    c. Si es_primo sigue siendo True, agregar el número a la lista de\n",
    "#    primos.\n",
    "# 3. Imprimir la lista de números primos encontrados."
   ]
  },
  {
   "cell_type": "code",
   "execution_count": 63,
   "metadata": {},
   "outputs": [
    {
     "name": "stdout",
     "output_type": "stream",
     "text": [
      "La cantidad de primos entre 0 y 50 son 11\n",
      "Los primos entre 0 y 50 son [11, 13, 17, 19, 23, 29, 31, 37, 41, 43, 47]\n"
     ]
    }
   ],
   "source": [
    "primes_count = 0\n",
    "primes = []\n",
    "sum_primes = 0\n",
    "for num in range (10,51):\n",
    "    is_prime = True\n",
    "    for i in range (2, int(num**0.5)+1):\n",
    "        if num % i == 0:\n",
    "            is_prime = False\n",
    "            break\n",
    "    if is_prime == True:\n",
    "        primes_count += 1\n",
    "        primes.append (num)\n",
    "        sum_primes += num\n",
    "        \n",
    "print (f\"La cantidad de primos entre 0 y 50 son {primes_count}\")\n",
    "print (f\"Los primos entre 0 y 50 son {primes}\")"
   ]
  },
  {
   "cell_type": "markdown",
   "metadata": {},
   "source": [
    "## People\n",
    "\n",
    "Dada la siguiente lista de personas:"
   ]
  },
  {
   "cell_type": "code",
   "execution_count": 65,
   "metadata": {},
   "outputs": [],
   "source": [
    "people = [\n",
    "    {\n",
    "        \"name\": \"Juan\",\n",
    "        \"age\": 34,\n",
    "        \"n_kids\": 2,\n",
    "        \"city\": \"Madrid\"\n",
    "    },\n",
    "    {\n",
    "        \"name\": \"Pepe\",\n",
    "        \"age\": 27,\n",
    "        \"n_kids\": 0,\n",
    "        \"city\": \"Barcelona\"\n",
    "    },\n",
    "    {\n",
    "        \"name\": \"Sonia\",\n",
    "        \"age\": 41,\n",
    "        \"n_kids\": 1,\n",
    "        \"city\": \"Valencia\"\n",
    "    },\n",
    "    {\n",
    "        \"name\": \"Lucía\",\n",
    "        \"age\": 22,\n",
    "        \"n_kids\": 2,\n",
    "        \"city\": \"Sevilla\"\n",
    "    },\n",
    "    {\n",
    "        \"name\": \"Leo\",\n",
    "        \"age\": 55,\n",
    "        \"n_kids\": 5,\n",
    "        \"city\": \"Bilbao\"\n",
    "    },\n",
    "    {\n",
    "        \"name\": \"Marta\",\n",
    "        \"age\": 30,\n",
    "        \"n_kids\": 3,\n",
    "        \"city\": \"Zaragoza\"\n",
    "    },\n",
    "    {\n",
    "        \"name\": \"Carlos\",\n",
    "        \"age\": 45,\n",
    "        \"n_kids\": 0,\n",
    "        \"city\": \"Granada\"\n",
    "    }\n",
    "]"
   ]
  },
  {
   "cell_type": "markdown",
   "metadata": {},
   "source": [
    "1. **Contar Personas**: \n",
    "   Escribe un programa que cuente cuántas personas hay en la lista `people`. Imprime el total."
   ]
  },
  {
   "cell_type": "code",
   "execution_count": 67,
   "metadata": {},
   "outputs": [
    {
     "name": "stdout",
     "output_type": "stream",
     "text": [
      "El total de personas que hay en la lista es 7\n"
     ]
    }
   ],
   "source": [
    "# Creo la lista de personas\n",
    "# Cuento cuantas personas hay en la lista\n",
    "# imprimo el total de personas\n"
   ]
  },
  {
   "cell_type": "code",
   "execution_count": 68,
   "metadata": {},
   "outputs": [
    {
     "name": "stdout",
     "output_type": "stream",
     "text": [
      "El total de personas que hay en la lista es 7\n"
     ]
    }
   ],
   "source": [
    "total_people = len(people)\n",
    "print (f\"El total de personas que hay en la lista es {total_people}\")"
   ]
  },
  {
   "cell_type": "markdown",
   "metadata": {},
   "source": [
    "2. **Contar Personas con Hijos**: \n",
    "   Crea un programa que cuente cuántas personas tienen al menos un hijo. Imprime el número de estas personas."
   ]
  },
  {
   "cell_type": "code",
   "execution_count": null,
   "metadata": {},
   "outputs": [],
   "source": [
    "# Inicializar contador para contar personas con hijos\n",
    "# Para cada persona en la lista\n",
    "    # Si la persona tiene mas de 0 hijos\n",
    "        # Aumentar el contador en 1\n",
    "# Imprimir el numero de personas que tienen al menos 1 hijo"
   ]
  },
  {
   "cell_type": "code",
   "execution_count": 72,
   "metadata": {},
   "outputs": [
    {
     "name": "stdout",
     "output_type": "stream",
     "text": [
      "La cantidad de personas con hijos es 5\n"
     ]
    }
   ],
   "source": [
    "people_with_kids = 0\n",
    "for person in people:\n",
    "    if person[\"n_kids\"] > 0:\n",
    "        people_with_kids +=1\n",
    "\n",
    "print (f\"La cantidad de personas con hijos es {people_with_kids}\")"
   ]
  },
  {
   "cell_type": "markdown",
   "metadata": {},
   "source": [
    "3. **Contar Hijos Totales**: \n",
    "   Escribe un programa que calcule cuántos hijos hay en total entre todas las personas de la lista. Imprime el total."
   ]
  },
  {
   "cell_type": "code",
   "execution_count": 74,
   "metadata": {},
   "outputs": [
    {
     "name": "stdout",
     "output_type": "stream",
     "text": [
      "La cantidad de hijos totales entre todas las personas es 13\n"
     ]
    }
   ],
   "source": [
    "# Inicializar un contador para la cantidad de hijos totales\n",
    "# Para cada persona de la lista sumar el numero de hijos (n_kids) al total\n",
    "# Imprimir la suma de los hijos totales\n"
   ]
  },
  {
   "cell_type": "code",
   "execution_count": null,
   "metadata": {},
   "outputs": [],
   "source": [
    "\n",
    "total_kids = 0\n",
    "for person in people:\n",
    "        total_kids += person [\"n_kids\"]\n",
    "\n",
    "print (f\"La cantidad de hijos totales entre todas las personas es {total_kids}\")\n"
   ]
  },
  {
   "cell_type": "markdown",
   "metadata": {},
   "source": [
    "4. **Promedio de Edad**: \n",
    "   Calcula y muestra la edad promedio de las personas en la lista."
   ]
  },
  {
   "cell_type": "code",
   "execution_count": 76,
   "metadata": {},
   "outputs": [
    {
     "name": "stdout",
     "output_type": "stream",
     "text": [
      "254\n",
      "7\n",
      "La edad promedio de la lista de personas es 36.285714285714285\n"
     ]
    }
   ],
   "source": [
    "# Inicializar contador para la suma de edades\n",
    "# Inicializar division\n",
    "# Dividir la suma de edades entre el total de personas y defin"
   ]
  },
  {
   "cell_type": "code",
   "execution_count": 77,
   "metadata": {},
   "outputs": [
    {
     "name": "stdout",
     "output_type": "stream",
     "text": [
      "254\n",
      "7\n",
      "La edad promedio de la lista de personas es 36.285714285714285\n"
     ]
    }
   ],
   "source": [
    "total_age = 0\n",
    "average_age = 0\n",
    "for person in people:\n",
    "    total_age += person [\"age\"]\n",
    "\n",
    "average_age = total_age / total_people\n",
    "\n",
    "\n",
    "print (total_age)\n",
    "print (total_people)\n",
    "print (f\"La edad promedio de la lista de personas es {average_age}\")\n"
   ]
  },
  {
   "cell_type": "markdown",
   "metadata": {},
   "source": [
    "5. **Lista de Personas que Terminan en 'a'**: \n",
    "   Genera una lista con los nombres de las personas cuyo nombre termina en \"a\". Imprime esta lista."
   ]
  },
  {
   "cell_type": "code",
   "execution_count": null,
   "metadata": {},
   "outputs": [],
   "source": [
    "# Inicializar contador que acumule las personas cuyo nombre termine en a\n",
    "# Iterar en toda la lista revisando variable name y ver los que terminen por a\n",
    "    # Si termina con a sumarla al contador\n"
   ]
  },
  {
   "cell_type": "code",
   "execution_count": 85,
   "metadata": {},
   "outputs": [
    {
     "name": "stdout",
     "output_type": "stream",
     "text": [
      " Las personas cuyo nombre termina con 'a' son ['Sonia', 'Lucía', 'Marta']\n"
     ]
    }
   ],
   "source": [
    "names_a = []\n",
    "\n",
    "for person in people:\n",
    "    if person[\"name\"].endswith ('a'):\n",
    "        names_a.append(person[\"name\"])\n",
    "\n",
    "print (f\" Las personas cuyo nombre termina con 'a' son {names_a}\")"
   ]
  },
  {
   "cell_type": "markdown",
   "metadata": {},
   "source": [
    "6. **Actualizar Información por Año**: \n",
    "   En un año, las personas cuyos nombres terminan en \"a\" tendrán un niño extra. Crea una nueva lista de diccionarios con la información actualizada de las personas (edad incrementada en 1 y `n_kids` aumentado en 1 para las que terminan en \"a\"). Imprime esta nueva lista."
   ]
  },
  {
   "cell_type": "code",
   "execution_count": null,
   "metadata": {},
   "outputs": [],
   "source": [
    "# Inicializar una variable para acumular la informacion actualizada\n",
    "# Para cada persona de la lista:\n",
    "    #Sumar 1 la edad\n",
    "    #Sumar 1 hijo a la sublista names_a\n",
    "#imprimir la nueva lista"
   ]
  },
  {
   "cell_type": "code",
   "execution_count": 91,
   "metadata": {},
   "outputs": [
    {
     "name": "stdout",
     "output_type": "stream",
     "text": [
      "[{'name': 'Juan', 'age': 35, 'n_kids': 2, 'city': 'Madrid'}, {'name': 'Pepe', 'age': 28, 'n_kids': 0, 'city': 'Barcelona'}, {'name': 'Sonia', 'age': 42, 'n_kids': 2, 'city': 'Valencia'}, {'name': 'Lucía', 'age': 23, 'n_kids': 3, 'city': 'Sevilla'}, {'name': 'Leo', 'age': 56, 'n_kids': 5, 'city': 'Bilbao'}, {'name': 'Marta', 'age': 31, 'n_kids': 4, 'city': 'Zaragoza'}, {'name': 'Carlos', 'age': 46, 'n_kids': 0, 'city': 'Granada'}]\n"
     ]
    }
   ],
   "source": [
    "people_2 = []\n",
    "for person in people:\n",
    "    person_2 = person.copy()\n",
    "    person_2 [\"age\"] += 1\n",
    "    if person_2 [\"name\"].endswith ('a'):\n",
    "        person_2 [\"n_kids\"] += 1\n",
    "    people_2.append (person_2)\n",
    "\n",
    "print (people_2)"
   ]
  },
  {
   "cell_type": "code",
   "execution_count": null,
   "metadata": {},
   "outputs": [],
   "source": []
  }
 ],
 "metadata": {
  "kernelspec": {
   "display_name": "Python 3 (ipykernel)",
   "language": "python",
   "name": "python3"
  },
  "language_info": {
   "codemirror_mode": {
    "name": "ipython",
    "version": 3
   },
   "file_extension": ".py",
   "mimetype": "text/x-python",
   "name": "python",
   "nbconvert_exporter": "python",
   "pygments_lexer": "ipython3",
   "version": "3.12.4"
  },
  "toc": {
   "base_numbering": 1,
   "nav_menu": {},
   "number_sections": false,
   "sideBar": true,
   "skip_h1_title": false,
   "title_cell": "Table of Contents",
   "title_sidebar": "Contents",
   "toc_cell": false,
   "toc_position": {},
   "toc_section_display": true,
   "toc_window_display": true
  },
  "varInspector": {
   "cols": {
    "lenName": 16,
    "lenType": 16,
    "lenVar": 40
   },
   "kernels_config": {
    "python": {
     "delete_cmd_postfix": "",
     "delete_cmd_prefix": "del ",
     "library": "var_list.py",
     "varRefreshCmd": "print(var_dic_list())"
    },
    "r": {
     "delete_cmd_postfix": ") ",
     "delete_cmd_prefix": "rm(",
     "library": "var_list.r",
     "varRefreshCmd": "cat(var_dic_list()) "
    }
   },
   "types_to_exclude": [
    "module",
    "function",
    "builtin_function_or_method",
    "instance",
    "_Feature"
   ],
   "window_display": false
  },
  "vscode": {
   "interpreter": {
    "hash": "aee8b7b246df8f9039afb4144a1f6fd8d2ca17a180786b69acc140d282b71a49"
   }
  }
 },
 "nbformat": 4,
 "nbformat_minor": 4
}
