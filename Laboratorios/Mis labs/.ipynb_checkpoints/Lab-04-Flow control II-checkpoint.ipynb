{
 "cells": [
  {
   "cell_type": "code",
   "execution_count": 6,
   "id": "7a057e80-42ac-4cb3-b2c5-b9ab486c69c8",
   "metadata": {},
   "outputs": [
    {
     "name": "stdout",
     "output_type": "stream",
     "text": [
      "La edad actual es 10\n",
      "La edad actual es 11\n",
      "La edad actual es 12\n",
      "La edad actual es 13\n",
      "La edad actual es 14\n",
      "La edad actual es 15\n",
      "La edad actual es 16\n",
      "La edad actual es 17\n",
      "La edad actual es 18\n",
      "Ahora es un adulto!\n"
     ]
    }
   ],
   "source": [
    "# Inicializo la variable edad\n",
    "edad = 10\n",
    "\n",
    "# Defino limite superior del bucle\n",
    "edad_max = 18\n",
    "\n",
    "# Uso bucle while hasta que no se cumpla el limite de edad, es decir que la edad sea menor igual que 18\n",
    "while edad <= edad_max:\n",
    "    # Imprimo la edad\n",
    "    print(f\"La edad actual es {edad}\")\n",
    "\n",
    "    # Incremento la edad en 1 en cada iteracion\n",
    "    edad += 1\n",
    "\n",
    "# El bucle se saldra cuando la variable edad sea igual a 18\n",
    "print (f\"Ahora es un adulto!\")\n"
   ]
  },
  {
   "cell_type": "code",
   "execution_count": null,
   "id": "36dc20c9-0274-4771-8863-403dde5cbebd",
   "metadata": {},
   "outputs": [],
   "source": [
    "# Inicializo la inversion inicial, la tasa de interes y el periodo de tiempo en años\n",
    "\n",
    "capital = 1000\n",
    "rate = 5 #tasa de interes anual del 5%\n",
    "years = 10\n",
    "\n",
    "# Caulculo interes compuesto utilizando la formula\n",
    "# A = P(1 + r/n)^(nt)\n",
    "# donde A es la cantidad final, P es el capital inicial, r es la tasa de interés anual, n es el número de veces que el interés se compone por año, y t es el tiempo en años\n",
    "n = 1 # compuesto anualmente\n",
    "\n",
    "# inicializo contador de años\n",
    "current_year = 1\n",
    "\n",
    "while current_year <= years:\n",
    "    # Cualculo interes compuesto para el año actual\n",
    "    amount = capital * (1 + (rate/(100*n)))** (n*current_year)\n",
    "\n",
    "    # Imprimir el resultado para el año actual\n",
    "    print (f\" Year {current_year}: ${amount:.2f}\")\n",
    "\n",
    "    # Incrementar año actual\n",
    "    current_year += 1\n",
    "\n",
    "\n",
    "\n"
   ]
  },
  {
   "cell_type": "code",
   "execution_count": null,
   "id": "5922f061-a476-49da-8736-a1ee3c794fd4",
   "metadata": {},
   "outputs": [],
   "source": [
    "# Inicializa la variable letter\n",
    "letra = input(\"Letra entre a-d: \") # Define las letras aceptadas\n",
    "letras_aceptadas = [\"a\", \"b\", \"c\", \"d\"]\n",
    "# Utiliza un bucle while para solicitar repetidamente una entrada hasta que se proporcione una opción válida\n",
    "while letra not in letras_aceptadas:\n",
    "    print(\"Entrada inválida. Por favor, introduce una letra entre 'a' y 'd'.\")\n",
    "letra = input(\"Letra entre a-d: \")\n",
    "# El bucle se sale cuando se proporciona una letra válida\n",
    "print(f\"Has introducido la letra: {letra}\")"
   ]
  },
  {
   "cell_type": "code",
   "execution_count": null,
   "id": "e586bb74-3daa-4759-b8e7-1db524c20a72",
   "metadata": {},
   "outputs": [],
   "source": []
  }
 ],
 "metadata": {
  "kernelspec": {
   "display_name": "Python 3 (ipykernel)",
   "language": "python",
   "name": "python3"
  },
  "language_info": {
   "codemirror_mode": {
    "name": "ipython",
    "version": 3
   },
   "file_extension": ".py",
   "mimetype": "text/x-python",
   "name": "python",
   "nbconvert_exporter": "python",
   "pygments_lexer": "ipython3",
   "version": "3.12.4"
  }
 },
 "nbformat": 4,
 "nbformat_minor": 5
}
