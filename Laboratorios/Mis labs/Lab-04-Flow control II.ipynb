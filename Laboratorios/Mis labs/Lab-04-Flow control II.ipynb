{
 "cells": [
  {
   "cell_type": "code",
   "execution_count": 6,
   "id": "7a057e80-42ac-4cb3-b2c5-b9ab486c69c8",
   "metadata": {},
   "outputs": [
    {
     "name": "stdout",
     "output_type": "stream",
     "text": [
      "La edad actual es 10\n",
      "La edad actual es 11\n",
      "La edad actual es 12\n",
      "La edad actual es 13\n",
      "La edad actual es 14\n",
      "La edad actual es 15\n",
      "La edad actual es 16\n",
      "La edad actual es 17\n",
      "La edad actual es 18\n",
      "Ahora es un adulto!\n"
     ]
    }
   ],
   "source": [
    "# Inicializo la variable edad\n",
    "edad = 10\n",
    "\n",
    "# Defino limite superior del bucle\n",
    "edad_max = 18\n",
    "\n",
    "# Uso bucle while hasta que no se cumpla el limite de edad, es decir que la edad sea menor igual que 18\n",
    "while edad <= edad_max:\n",
    "    # Imprimo la edad\n",
    "    print(f\"La edad actual es {edad}\")\n",
    "\n",
    "    # Incremento la edad en 1 en cada iteracion\n",
    "    edad += 1\n",
    "\n",
    "# El bucle se saldra cuando la variable edad sea igual a 18\n",
    "print (f\"Ahora es un adulto!\")\n"
   ]
  },
  {
   "cell_type": "code",
   "execution_count": null,
   "id": "36dc20c9-0274-4771-8863-403dde5cbebd",
   "metadata": {},
   "outputs": [],
   "source": [
    "# Inicializo la inversion inicial, la tasa de interes y el periodo de tiempo en años\n",
    "\n",
    "capital = 1000\n",
    "rate = 5 #tasa de interes anual del 5%\n",
    "years = 10\n",
    "\n",
    "# Caulculo interes compuesto utilizando la formula\n",
    "# A = P(1 + r/n)^(nt)\n",
    "# donde A es la cantidad final, P es el capital inicial, r es la tasa de interés anual, n es el número de veces que el interés se compone por año, y t es el tiempo en años\n",
    "n = 1 # compuesto anualmente\n",
    "\n",
    "# inicializo contador de años\n",
    "current_year = 1\n",
    "\n",
    "while current_year <= years:\n",
    "    # Cualculo interes compuesto para el año actual\n",
    "    amount = capital * (1 + (rate/(100*n)))** (n*current_year)\n",
    "\n",
    "    # Imprimir el resultado para el año actual\n",
    "    print (f\" Year {current_year}: ${amount:.2f}\")\n",
    "\n",
    "    # Incrementar año actual\n",
    "    current_year += 1\n",
    "\n",
    "\n",
    "\n"
   ]
  },
  {
   "cell_type": "code",
   "execution_count": null,
   "id": "5922f061-a476-49da-8736-a1ee3c794fd4",
   "metadata": {},
   "outputs": [],
   "source": [
    "# Inicializa la variable letter\n",
    "letra = input(\"Letra entre a-d: \") # Define las letras aceptadas\n",
    "letras_aceptadas = [\"a\", \"b\", \"c\", \"d\"]\n",
    "# Utiliza un bucle while para solicitar repetidamente una entrada hasta que se proporcione una opción válida\n",
    "while letra not in letras_aceptadas:\n",
    "    print(\"Entrada inválida. Por favor, introduce una letra entre 'a' y 'd'.\")\n",
    "letra = input(\"Letra entre a-d: \")\n",
    "# El bucle se sale cuando se proporciona una letra válida\n",
    "print(f\"Has introducido la letra: {letra}\")"
   ]
  },
  {
   "cell_type": "code",
   "execution_count": 5,
   "id": "e586bb74-3daa-4759-b8e7-1db524c20a72",
   "metadata": {},
   "outputs": [
    {
     "name": "stdout",
     "output_type": "stream",
     "text": [
      "¡Bienvenido al Analizador de Oportunidades de Inversión!\n"
     ]
    },
    {
     "name": "stdin",
     "output_type": "stream",
     "text": [
      "Por favor, introduce el número de oportunidades de inversión:  2\n",
      "Por favor, introduce el margen de beneficio mínimo aceptable (como porcentaje):  10\n"
     ]
    },
    {
     "name": "stdout",
     "output_type": "stream",
     "text": [
      "\n",
      "Introduce los detalles de la oportunidad de inversión 1:\n"
     ]
    },
    {
     "name": "stdin",
     "output_type": "stream",
     "text": [
      "Nombre de la Inversión:  apple\n",
      "Margen de Beneficio (como porcentaje):  12\n"
     ]
    },
    {
     "name": "stdout",
     "output_type": "stream",
     "text": [
      "\n",
      "Introduce los detalles de la oportunidad de inversión 2:\n"
     ]
    },
    {
     "name": "stdin",
     "output_type": "stream",
     "text": [
      "Nombre de la Inversión:  floraqueen\n",
      "Margen de Beneficio (como porcentaje):  9\n"
     ]
    },
    {
     "name": "stdout",
     "output_type": "stream",
     "text": [
      "\n",
      "Oportunidades de inversión rentables (con un margen de beneficio del 10.0% o superior):\n",
      "1. apple\n"
     ]
    }
   ],
   "source": [
    "# Bienvenida al programa\n",
    "print(\"¡Bienvenido al Analizador de Oportunidades de Inversión!\")\n",
    "# Solicitar número de oportunidades y margen de beneficio mínimo, con validación\n",
    "while True:\n",
    "    try:\n",
    "        num_oportunidades = int(input(\"Por favor, introduce el número de oportunidades de inversión: \"))\n",
    "        margen_minimo = float(input(\"Por favor, introduce el margen de beneficio mínimo aceptable (como porcentaje): \"))\n",
    "        if num_oportunidades > 0 and margen_minimo > 0:\n",
    "            break\n",
    "        else:\n",
    "            print(\"Ambos valores deben ser mayores que 0. Inténtalo de nuevo.\")\n",
    "    except ValueError:\n",
    "        print(\"Entrada no válida. Por favor, introduce números enteros y decimales correctamente.\")\n",
    "# Lista para almacenar oportunidades rentables\n",
    "oportunidades_rentables = []\n",
    "# Bucle para analizar cada oportunidad de inversión\n",
    "for i in range(1, num_oportunidades + 1):\n",
    "    print(f\"\\nIntroduce los detalles de la oportunidad de inversión {i}:\")\n",
    "    nombre_inversion = input(\"Nombre de la Inversión: \")\n",
    "    while True:\n",
    "        try:\n",
    "            margen_beneficio = float(input(\"Margen de Beneficio (como porcentaje): \"))\n",
    "            if margen_beneficio >= 0:\n",
    "                break\n",
    "            else:\n",
    "                print(\"El margen de beneficio debe ser un valor positivo. Inténtalo de nuevo.\")\n",
    "        except ValueError:\n",
    "            print(\"Entrada no válida. Por favor, introduce un número válido para el margen de beneficio.\")\n",
    "    # Verificar si la inversión es rentable\n",
    "    if margen_beneficio >= margen_minimo:\n",
    "        oportunidades_rentables.append(nombre_inversion)\n",
    "# Mostrar las inversiones rentables\n",
    "print(f\"\\nOportunidades de inversión rentables (con un margen de beneficio del {margen_minimo}% o superior):\")\n",
    "if oportunidades_rentables:\n",
    "    for idx, inversion in enumerate(oportunidades_rentables, 1):\n",
    "        print(f\"{idx}. {inversion}\")\n",
    "else:\n",
    "    print(\"No hay oportunidades de inversión que cumplan con el margen de beneficio mínimo.\")"
   ]
  },
  {
   "cell_type": "code",
   "execution_count": 10,
   "id": "62fccb34-47bc-4ff8-b548-78ca72cad9e9",
   "metadata": {},
   "outputs": [
    {
     "name": "stdout",
     "output_type": "stream",
     "text": [
      "revisión hecha\n"
     ]
    }
   ],
   "source": [
    "x = 5\n",
    "if x > 5:\n",
    "    print(\"x es mayor que 5\")\n",
    "elif x < 5:\n",
    "    pass  # trabajo en el futuro\n",
    "else:\n",
    "    print(\"revisión hecha\")\n"
   ]
  },
  {
   "cell_type": "code",
   "execution_count": 15,
   "id": "eced5c1b-776d-4b08-8ab6-fc01f9d96929",
   "metadata": {},
   "outputs": [
    {
     "name": "stdout",
     "output_type": "stream",
     "text": [
      "Albert\n",
      "Laura\n"
     ]
    }
   ],
   "source": [
    "list_of_names = [\"Clara\", \"Albert\", \"Laura\", \"Carla\"]\n",
    "for i in list_of_names:\n",
    "    if i.startswith(\"C\"):\n",
    "        # Continúa con la SIGUIENTE iteración si el nombre comienza con \"C\"\n",
    "        continue  # Esta línea instruye al programa a saltar el código restante en esta iteración\n",
    "    else:\n",
    "        # Imprime los nombres que no comienzan con \"C\"\n",
    "        print(i)\n"
   ]
  },
  {
   "cell_type": "code",
   "execution_count": 21,
   "id": "e24514e8-243d-4c94-8d72-b564eda9138e",
   "metadata": {},
   "outputs": [
    {
     "name": "stdout",
     "output_type": "stream",
     "text": [
      "Albert\n"
     ]
    }
   ],
   "source": [
    "# Lista de nombres\n",
    "list_of_names = [\"Albert\", \"Clara\", \"Laura\", \"Carla\"]\n",
    "# Iterar a través de la lista\n",
    "for i in list_of_names:\n",
    "# Verificar si el nombre comienza con \"C\" \n",
    "    if i.startswith(\"C\"):\n",
    "        # Si es así, salir del bucle inmediatamente usando \"break\"\n",
    "        break\n",
    "        # La siguiente línea no se ejecutará para nombres que comiencen con \"C\"\n",
    "        print(i)\n",
    "    else:\n",
    "        # Imprimir nombres que no comienzan con \"C\"\n",
    "        print(i)"
   ]
  },
  {
   "cell_type": "code",
   "execution_count": 24,
   "id": "31d7a0a9-df62-44a9-9de3-677ea07d4891",
   "metadata": {},
   "outputs": [
    {
     "name": "stdout",
     "output_type": "stream",
     "text": [
      "5\n",
      "6\n",
      "7\n",
      "8\n"
     ]
    }
   ],
   "source": [
    "number = \"5678\"\n",
    "# Descomenta la siguiente línea para convertir 'number' en un entero\n",
    "# number = int(number)\n",
    "# Itera a través de cada carácter en la cadena 'number'\n",
    "for i in number:\n",
    "# Imprime cada carácter \n",
    "    print(i)"
   ]
  },
  {
   "cell_type": "code",
   "execution_count": 26,
   "id": "06bd2100-5f46-40d6-a256-987783ee5241",
   "metadata": {},
   "outputs": [
    {
     "name": "stdout",
     "output_type": "stream",
     "text": [
      "5\n",
      "6\n",
      "7\n",
      "8\n",
      ".\n",
      "5\n",
      "6\n",
      "7\n"
     ]
    }
   ],
   "source": [
    "# No se pueden iterar números\n",
    "number = 5678.567\n",
    "number_str = str(number) # Convierte el número a una cadena \n",
    "for digit in number_str:\n",
    "    print(digit)"
   ]
  },
  {
   "cell_type": "code",
   "execution_count": 27,
   "id": "86e0a17f-9b58-47ae-a71d-c557de0ea61b",
   "metadata": {},
   "outputs": [
    {
     "name": "stdout",
     "output_type": "stream",
     "text": [
      "¡Hola!\n",
      "¡Hola!\n",
      "¡Hola!\n",
      "¡Hola!\n"
     ]
    }
   ],
   "source": [
    "greetings_list = [\"Hello\", \"How\", \"are\", \"you\"]\n",
    "# Itera a través de cada elemento en greetings_list\n",
    "for _ in greetings_list:\n",
    "# Imprime \"¡Hola!\" para cada elemento (el guion bajo _ se usa cuando no necesitamos el elemento actual)\n",
    "    print(\"¡Hola!\")"
   ]
  },
  {
   "cell_type": "code",
   "execution_count": 32,
   "id": "026b326b-158a-4917-baaa-08783574231a",
   "metadata": {},
   "outputs": [
    {
     "name": "stdout",
     "output_type": "stream",
     "text": [
      "¡Hola!\n",
      "¡Hola!\n",
      "¡Hola!\n",
      "¡Hola!\n",
      "0\n",
      "1\n",
      "2\n",
      "3\n"
     ]
    }
   ],
   "source": [
    "# Define una lista de saludos\n",
    "greetings_list = [\"Hello\", \"How\", \"are\", \"you\"]\n",
    "# Usa un bucle for para iterar sobre un rango de índices de la lista\n",
    "for i in range(len(greetings_list)):\n",
    "# Imprime \"¡Hola!\" en cada iteración \n",
    "    print(\"¡Hola!\")\n",
    "# Usa un bucle for para iterar sobre un rango de números desde 0 hasta 3 (exclusivo)\n",
    "for i in range(4):\n",
    "    # Imprime el valor actual de 'i' durante cada iteración\n",
    "    print(i)"
   ]
  },
  {
   "cell_type": "code",
   "execution_count": 35,
   "id": "067fb3c1-c9d1-4296-88cc-0fa1201cde3e",
   "metadata": {},
   "outputs": [
    {
     "name": "stdout",
     "output_type": "stream",
     "text": [
      "H\n",
      "e\n",
      "l\n",
      "l\n",
      "o\n",
      " \n",
      "H\n",
      "o\n",
      "w\n",
      " \n",
      "A\n",
      "r\n",
      "e\n",
      " \n",
      "y\n",
      "o\n",
      "u\n",
      "u\n",
      "U\n",
      "U\n",
      "u\n",
      "u\n"
     ]
    }
   ],
   "source": [
    "# Variable inicial\n",
    "greeting = \"Hello How Are youuUUuu\"\n",
    "# qué crees que hará\n",
    "for i in greeting:\n",
    "    print(i)"
   ]
  },
  {
   "cell_type": "code",
   "execution_count": 37,
   "id": "d88707a9-1c38-40e7-b0ff-bde3c5056cbd",
   "metadata": {},
   "outputs": [
    {
     "data": {
      "text/plain": [
       "['U', 'H', 'A']"
      ]
     },
     "execution_count": 37,
     "metadata": {},
     "output_type": "execute_result"
    }
   ],
   "source": [
    "new_list = []\n",
    "for i in greeting:\n",
    "# Verificar si el carácter actual 'i' es mayúscula. \n",
    "    if i.isupper():\n",
    "        # Si el carácter es mayúscula, añadirlo a 'new_list'.\n",
    "        new_list.append(i)\n",
    "# Eliminar duplicados convirtiendo 'new_list' en un conjunto y luego de vuelta a una lista.\n",
    "new_list = list(set(new_list))\n",
    "# 'new_list' ahora contiene caracteres únicos en mayúsculas de la cadena 'greeting'.\n",
    "new_list"
   ]
  },
  {
   "cell_type": "code",
   "execution_count": 38,
   "id": "c5b79341-c840-4caa-be39-322b1faee56f",
   "metadata": {},
   "outputs": [
    {
     "name": "stdout",
     "output_type": "stream",
     "text": [
      "Índice 0: apple\n",
      "Índice 1: banana\n",
      "Índice 2: cherry\n",
      "Índice 3: date\n"
     ]
    }
   ],
   "source": [
    "fruits = [\"apple\", \"banana\", \"cherry\", \"date\"]\n",
    "# Iterando a través de la lista usando un bucle for y la función range()\n",
    "for i in range(len(fruits)):\n",
    "    print(f\"Índice {i}: {fruits[i]}\")"
   ]
  },
  {
   "cell_type": "code",
   "execution_count": 39,
   "id": "63f38e56-c348-48f7-a8aa-e49ef724a563",
   "metadata": {},
   "outputs": [
    {
     "name": "stdout",
     "output_type": "stream",
     "text": [
      "Índice 0: apple\n",
      "Índice 1: banana\n",
      "Índice 2: cherry\n",
      "Índice 3: date\n"
     ]
    }
   ],
   "source": [
    "fruits = [\"apple\", \"banana\", \"cherry\", \"date\"]\n",
    "# Iterando a través de la lista usando la función enumerate()\n",
    "for index, fruit in enumerate(fruits):\n",
    "    print(f\"Índice {index}: {fruit}\")"
   ]
  },
  {
   "cell_type": "code",
   "execution_count": 42,
   "id": "03584099-b792-45d3-ad91-729cc0e3a527",
   "metadata": {},
   "outputs": [
    {
     "name": "stdout",
     "output_type": "stream",
     "text": [
      "Me llamo Albert y soy de Mataró\n",
      "Me llamo Clara y soy de Bcn\n",
      "Me llamo Laura y soy de Mataró\n"
     ]
    }
   ],
   "source": [
    "# Dos listas conteniendo nombres y ciudades\n",
    "list_of_names = [\"Albert\", \"Clara\", \"Laura\"]\n",
    "list_of_cities = [\"Mataró\", \"Bcn\", \"Mataró\",\"Premia de Mar\"]\n",
    "# Bucle a través de las listas simultáneamente usando zip\n",
    "for name, city in zip(list_of_names, list_of_cities):\n",
    "# Imprime un mensaje formateado para cada par de elementos \n",
    "    print(f\"Me llamo {name} y soy de {city}\")"
   ]
  },
  {
   "cell_type": "code",
   "execution_count": 44,
   "id": "7b80ee98-dd4f-470c-a8bf-9eee821713a4",
   "metadata": {},
   "outputs": [
    {
     "name": "stdout",
     "output_type": "stream",
     "text": [
      "Persona 1: 'Me llamo Albert, y soy de Mataró.Tengo 30 años'\n",
      "Persona 2: 'Me llamo Clara, y soy de Bcn.Tengo 30 años'\n",
      "Persona 3: 'Me llamo Laura, y soy de Mataró.Tengo 30 años'\n"
     ]
    }
   ],
   "source": [
    "# Listas conteniendo nombres, ciudades y edades\n",
    "list_of_names = [\"Albert\", \"Clara\", \"Laura\"]\n",
    "list_of_cities = [\"Mataró\", \"Bcn\", \"Mataró\"]\n",
    "list_of_ages = [30, 30, 30]\n",
    "# Bucle a través de las listas simultáneamente usando enumerate y zip\n",
    "for index, (name, city, age) in enumerate(zip(list_of_names,list_of_cities, list_of_ages)):\n",
    "    # Imprime un mensaje formateado para cada persona\n",
    "    print(f\"Persona {index + 1}: 'Me llamo {name}, y soy de {city}.Tengo {age} años'\")"
   ]
  },
  {
   "cell_type": "code",
   "execution_count": 45,
   "id": "589f0f59-dd78-42a3-816f-b8da25037787",
   "metadata": {},
   "outputs": [
    {
     "name": "stdout",
     "output_type": "stream",
     "text": [
      "[(1, 'a'), (2, 'b'), (3, 'c'), (4, None), (5, None)]\n"
     ]
    }
   ],
   "source": [
    "from itertools import zip_longest\n",
    "# Listas con diferentes longitudes\n",
    "list1 = [1, 2, 3, 4, 5]\n",
    "list2 = ['a', 'b', 'c']\n",
    "# Usando zip_longest para mantener la lista más larga\n",
    "result = list(zip_longest(list1, list2, fillvalue=None))\n",
    "# Imprimiendo el resultado\n",
    "print(result)"
   ]
  },
  {
   "cell_type": "code",
   "execution_count": 46,
   "id": "b87fca2a-131d-420c-a1c5-c5a6b26032da",
   "metadata": {},
   "outputs": [
    {
     "name": "stdout",
     "output_type": "stream",
     "text": [
      "(1, 'a')\n",
      "(2, 'b')\n",
      "(3, 'c')\n",
      "(4, None)\n",
      "(5, None)\n"
     ]
    }
   ],
   "source": [
    "from itertools import zip_longest\n",
    "list1 = [1, 2, 3, 4, 5]\n",
    "list2 = ['a', 'b', 'c']\n",
    "# Usando zip_longest para mantener la lista más larga\n",
    "result = list(zip_longest(list1, list2, fillvalue=None))\n",
    "# Iterando a través del resultado combinado en un bucle for\n",
    "for item in result:\n",
    "    print(item)"
   ]
  },
  {
   "cell_type": "code",
   "execution_count": 47,
   "id": "6219e04d-dd09-44eb-a9b5-007ce2ab5108",
   "metadata": {},
   "outputs": [
    {
     "name": "stdout",
     "output_type": "stream",
     "text": [
      "Alice: 95\n",
      "Bob: 89\n",
      "Charlie: 92\n",
      "David: 88\n"
     ]
    }
   ],
   "source": [
    "# Definir un diccionario de calificaciones de estudiantes\n",
    "student_grades = {\n",
    "    \"Alice\": 95,\n",
    "    \"Bob\": 89,\n",
    "    \"Charlie\": 92,\n",
    "    \"David\": 88\n",
    "}\n",
    "# Iterar sobre las claves e imprimir los nombres de los estudiantes y sus calificaciones\n",
    "for student in student_grades:\n",
    "    print(f\"{student}: {student_grades[student]}\")"
   ]
  },
  {
   "cell_type": "code",
   "execution_count": 48,
   "id": "a631dbc7-345a-41fb-af0a-ae3429d17274",
   "metadata": {},
   "outputs": [
    {
     "name": "stdout",
     "output_type": "stream",
     "text": [
      "Alice: 95\n",
      "Bob: 89\n",
      "Charlie: 92\n",
      "David: 88\n"
     ]
    }
   ],
   "source": [
    "# Definir un diccionario de calificaciones de estudiantes\n",
    "student_grades = {\n",
    "    \"Alice\": 95,\n",
    "    \"Bob\": 89,\n",
    "    \"Charlie\": 92,\n",
    "    \"David\": 88\n",
    "}\n",
    "# Iterar sobre pares clave-valor e imprimir los nombres de los estudiantes y sus calificaciones\n",
    "for student, grade in student_grades.items():\n",
    "    print(f\"{student}: {grade}\")"
   ]
  },
  {
   "cell_type": "code",
   "execution_count": 49,
   "id": "f19a8f62-c49e-488a-a1c7-50fcbca33ec2",
   "metadata": {},
   "outputs": [
    {
     "name": "stdout",
     "output_type": "stream",
     "text": [
      "95\n",
      "89\n",
      "92\n",
      "88\n"
     ]
    }
   ],
   "source": [
    "# Definir un diccionario de calificaciones de estudiantes\n",
    "student_grades = {\n",
    "    \"Alice\": 95,\n",
    "    \"Bob\": 89,\n",
    "    \"Charlie\": 92,\n",
    "    \"David\": 88 }\n",
    "# Iterar sobre los valores e imprimir las calificaciones de los estudiantes\n",
    "for grade in student_grades.values():\n",
    "    print(grade)"
   ]
  },
  {
   "cell_type": "code",
   "execution_count": 53,
   "id": "55c1ee71-6deb-4d1a-a17c-408d7198d020",
   "metadata": {},
   "outputs": [
    {
     "name": "stdout",
     "output_type": "stream",
     "text": [
      "Ingresos totales generados: €50.0\n",
      "Conductor con más viajes: Juan Pérez (ID: 1)\n",
      "Conductor con más ingresos: Juan Pérez (ID:1)\n",
      "Viajes realizados por el conductor Juan Pérez:[{'id_viaje': 101, 'id_conductor': 1, 'nombre_cliente': 'Carlos Ruiz', 'distancia': 5, 'tarifa': 15.0}, {'id_viaje': 102, 'id_conductor': 1, 'nombre_cliente': 'Lucía Martínez', 'distancia': 3, 'tarifa': 10.0}]\n"
     ]
    }
   ],
   "source": [
    "# Pseudocódigo\n",
    "# 1. Crear un diccionario vacío llamado 'conductores' para almacenar la información de cada conductor\n",
    "# 2. Crear una lista vacía llamada 'viajes' para almacenar los detalles de cada viaje realizado\n",
    "# 3. Añadir nuevos conductores al diccionario 'conductores' con un ID único y sus datos:\n",
    "#    - Nombre completo\n",
    "#    - Número de contacto\n",
    "#    - Total de viajes realizados (inicialmente 0)\n",
    "# 4. Registrar nuevos viajes en la lista 'viajes', cada viaje debe incluir:\n",
    "#    - ID del viaje (un identificador único)\n",
    "#    - ID del conductor (para asociar el viaje con el conductor correspondiente)\n",
    "#    - Nombre del cliente que solicitó el viaje\n",
    "#    - Distancia del viaje en kilómetros\n",
    "#    - Tarifa del viaje en euros\n",
    "# 5. Para cada viaje registrado, actualizar el total de viajes realizados por el conductor correspondiente:\n",
    "#    - Incrementar el total de viajes del conductor según el ID del viaje\n",
    "# 6. Calcular los ingresos totales generados por la compañía sumando las tarifas de todos los viajes\n",
    "# 7. Encontrar al conductor que ha realizado el mayor número de viajes:\n",
    "#    - Usar la función 'max' sobre el diccionario 'conductores' para obtener el conductor con más viajes\n",
    "# 8. Calcular los ingresos totales generados por cada conductor:\n",
    "#    - Crear un diccionario temporal para almacenar los ingresos acumulados por cada conductor\n",
    "#    - Para cada viaje, sumar la tarifa al total del conductor correspondiente\n",
    "# 9. Encontrar al conductor con los ingresos totales más altos:\n",
    "#    - Usar la función 'max' sobre el diccionario de ingresos por conductor\n",
    "# 10. Listar todos los viajes realizados por un conductor específico:\n",
    "#    - Filtrar la lista 'viajes' para obtener solo aquellos que coincidan con el ID del conductor\n",
    "\n",
    "\n",
    "# 1. Crear un diccionario para almacenar información sobre los conductores de taxi \n",
    "conductores = {}\n",
    "# 2. Crear una lista para almacenar información sobre los viajes en taxi\n",
    "viajes = []\n",
    "# 3. Añadir nuevos conductores al diccionario de conductores\n",
    "conductores[1] = {\n",
    "    \"nombre\": \"Juan Pérez\",\n",
    "    \"numero_contacto\": \"123456789\",\n",
    "    \"total_viajes\": 0\n",
    "}\n",
    "conductores[2] = {    \"nombre\": \"María Gómez\",\n",
    "    \"numero_contacto\": \"987654321\",\n",
    "    \"total_viajes\": 0\n",
    "}\n",
    "# 4. Registrar nuevos viajes en taxi con los detalles relevantes\n",
    "viaje_1 = {\n",
    "\"id_viaje\": 101,\n",
    "\"id_conductor\": 1, \n",
    "\"nombre_cliente\": \"Carlos Ruiz\", \n",
    "\"distancia\": 5, # en kilómetros \n",
    "\"tarifa\": 15.0 # en euros\n",
    "}\n",
    "viaje_2 = {\n",
    "    \"id_viaje\": 102,\n",
    "    \"id_conductor\": 1,\n",
    "    \"nombre_cliente\": \"Lucía Martínez\",\n",
    "    \"distancia\": 3,\n",
    "    \"tarifa\": 10.0\n",
    "}\n",
    "viaje_3 = {\n",
    "    \"id_viaje\": 103,\n",
    "    \"id_conductor\": 2,\n",
    "    \"nombre_cliente\": \"Antonio López\",\n",
    "    \"distancia\": 10,\n",
    "    \"tarifa\": 25.0\n",
    "}\n",
    "# Agregar los viajes a la lista de viajes\n",
    "viajes.append(viaje_1)\n",
    "viajes.append(viaje_2)\n",
    "viajes.append(viaje_3)\n",
    "# 5. Actualizar el número total de viajes realizados por cada conductor\n",
    "conductores[1][\"total_viajes\"] += 2 # Conductor 1 tiene 2 viajes \n",
    "conductores[2][\"total_viajes\"] += 1 # Conductor 2 tiene 1 viaje\n",
    "# 6. Calcular los ingresos totales generados por la compañía de taxis\n",
    "ingresos_totales = 0\n",
    "for viaje in viajes:\n",
    "    ingresos_totales += viaje[\"tarifa\"]\n",
    "# 7. Encontrar al conductor con el mayor número de viajes\n",
    "max_viajes = -1\n",
    "conductor_max_viajes_id = None\n",
    "for id_conductor, datos in conductores.items():\n",
    "    if datos[\"total_viajes\"] > max_viajes:\n",
    "        max_viajes = datos[\"total_viajes\"]\n",
    "        conductor_max_viajes_id = id_conductor\n",
    "# 8. Encontrar al conductor con los ingresos totales más altos\n",
    "ingresos_por_conductor = {}\n",
    "for viaje in viajes:\n",
    "    id_conductor = viaje[\"id_conductor\"]\n",
    "    if id_conductor not in ingresos_por_conductor:\n",
    "        ingresos_por_conductor[id_conductor] = 0\n",
    "    ingresos_por_conductor[id_conductor] += viaje[\"tarifa\"]\n",
    "max_ingresos = -1\n",
    "conductor_max_ingresos_id = None\n",
    "for id_conductor, total_ingresos in ingresos_por_conductor.items():\n",
    "    if total_ingresos > max_ingresos:\n",
    "        max_ingresos = total_ingresos\n",
    "        conductor_max_ingresos_id = id_conductor\n",
    "# 9. Listar todos los viajes realizados por un conductor específico \n",
    "id_conductor_especifico = 1 # Por ejemplo, el conductor con ID 1 \n",
    "viajes_conductor_especifico = []\n",
    "for viaje in viajes:\n",
    "    if viaje[\"id_conductor\"] == id_conductor_especifico:\n",
    "        viajes_conductor_especifico.append(viaje)\n",
    "# Salidas de resultados\n",
    "print(f\"Ingresos totales generados: €{ingresos_totales}\")\n",
    "print(f\"Conductor con más viajes: {conductores[conductor_max_viajes_id]['nombre']} (ID: {conductor_max_viajes_id})\")\n",
    "print(f\"Conductor con más ingresos: {conductores[conductor_max_ingresos_id]['nombre']} (ID:{conductor_max_ingresos_id})\")\n",
    "print(f\"Viajes realizados por el conductor {conductores[id_conductor_especifico]['nombre']}:{viajes_conductor_especifico}\")"
   ]
  },
  {
   "cell_type": "code",
   "execution_count": null,
   "id": "690bc023-ed38-41b9-a305-2b8549bfd2f3",
   "metadata": {},
   "outputs": [],
   "source": []
  }
 ],
 "metadata": {
  "kernelspec": {
   "display_name": "Python 3 (ipykernel)",
   "language": "python",
   "name": "python3"
  },
  "language_info": {
   "codemirror_mode": {
    "name": "ipython",
    "version": 3
   },
   "file_extension": ".py",
   "mimetype": "text/x-python",
   "name": "python",
   "nbconvert_exporter": "python",
   "pygments_lexer": "ipython3",
   "version": "3.12.4"
  }
 },
 "nbformat": 4,
 "nbformat_minor": 5
}
