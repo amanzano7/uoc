{
 "cells": [
  {
   "cell_type": "code",
   "execution_count": 7,
   "id": "888c0349-4c9b-49c5-b9a4-fb461e720c67",
   "metadata": {},
   "outputs": [
    {
     "name": "stdout",
     "output_type": "stream",
     "text": [
      "Lista plana usando bucle for: [1, 2, 3, 4]\n"
     ]
    }
   ],
   "source": [
    "# Lista anidada de múltiples niveles\n",
    "\n",
    "nested = [[[[1, 2], [3, 4]]]] # Usando un bucle for\n",
    "flat_list = [] # Inicializar una lista vacía para almacenar los elementos aplanados\n",
    "\n",
    "# Iterar a través de cada sublista en la lista anidada\n",
    "for sublist1 in nested:\n",
    "    for sublist2 in sublist1:\n",
    "        for sublist3 in sublist2:\n",
    "            for item in sublist3:\n",
    "                flat_list.append(item) # Agregar el elemento a la lista plana\n",
    "\n",
    "# Mostrar el resultado usando bucle for\n",
    "print(\"Lista plana usando bucle for:\", flat_list)\n",
    "\n",
    "\n",
    "\n"
   ]
  },
  {
   "cell_type": "code",
   "execution_count": 10,
   "id": "a39bfc3c-3abe-4752-ad3b-a5be192baa55",
   "metadata": {},
   "outputs": [
    {
     "name": "stdout",
     "output_type": "stream",
     "text": [
      "Lista plana usando comprensión de lista: [1, 2, 3, 4]\n"
     ]
    }
   ],
   "source": [
    "# Usando comprensión de lista anidada\n",
    "flat_list_comprehension = [item for sublist1 in nested for sublist2 in sublist1 for sublist3 in sublist2 for item in sublist3]\n",
    "# Mostrar el resultado usando comprensión de lista\n",
    "print(\"Lista plana usando comprensión de lista:\",flat_list_comprehension)\n"
   ]
  },
  {
   "cell_type": "code",
   "execution_count": 13,
   "id": "77592877-8b34-43ac-b63d-f92d2c83eda5",
   "metadata": {},
   "outputs": [
    {
     "name": "stdout",
     "output_type": "stream",
     "text": [
      "{2: 2, 4: 4, 6: 6}\n"
     ]
    }
   ],
   "source": [
    "numbers = [1, 2, 3, 4, 5, 6]\n",
    "even_dict = {num: num for num in numbers if num % 2 == 0} \n",
    "print(even_dict)\n"
   ]
  },
  {
   "cell_type": "code",
   "execution_count": 16,
   "id": "5049dc8d-e6ed-4a38-b685-5f47a93ddf2e",
   "metadata": {},
   "outputs": [
    {
     "name": "stdout",
     "output_type": "stream",
     "text": [
      "{'apple', 'orange', 'banana'}\n",
      "{'apple': 2, 'orange': 1, 'banana': 3}\n"
     ]
    }
   ],
   "source": [
    "print(set([\"apple\", \"banana\", \"orange\", \"apple\", \"banana\", \"banana\"]))\n",
    "fruits = [\"apple\", \"banana\", \"orange\", \"apple\", \"banana\", \"banana\"]\n",
    "fruit_count = {fruit: fruits.count(fruit) for fruit in set(fruits)}\n",
    "print(fruit_count)"
   ]
  },
  {
   "cell_type": "code",
   "execution_count": 17,
   "id": "d34de99c-47c7-4c3e-9a73-b8fa8293df40",
   "metadata": {},
   "outputs": [
    {
     "name": "stdout",
     "output_type": "stream",
     "text": [
      "{'El gato está en el tejado': {'word_count': 6, 'average_length': 3.3333333333333335}, 'El perro corre rápido': {'word_count': 4, 'average_length': 4.5}, 'La lluvia es hermosa y refrescante': {'word_count': 6, 'average_length': 4.833333333333333}}\n"
     ]
    }
   ],
   "source": [
    "# Lista de frases\n",
    "phrases = [\"El gato está en el tejado\", \"El perro corre rápido\", \"La lluvia es hermosa y refrescante\"]\n",
    "\n",
    "# Usando comprensión de diccionario\n",
    "\n",
    "phrase_info_comprehension = {phrase: {'word_count': len(words := phrase.split()),'average_length': sum(len(word) for word in words) / len(words)} for phrase in phrases}\n",
    "# Mostrar el resultado\n",
    "print(phrase_info_comprehension)\n"
   ]
  },
  {
   "cell_type": "code",
   "execution_count": 19,
   "id": "d02be8c8-07a5-4e17-adc5-4fb872f76370",
   "metadata": {},
   "outputs": [
    {
     "name": "stdout",
     "output_type": "stream",
     "text": [
      "Frecuencia de palabras clave: {'positivas': 7, 'negativas': 6}\n"
     ]
    }
   ],
   "source": [
    "#pseudocodigo\n",
    "\n",
    "#1. Definir una lista que contenga comentarios de clientes sobre un producto.\n",
    "#   - Ejemplo de comentarios: \"El producto es excelente\", \"Servicio terrible\", etc.\n",
    "#2. Definir una lista de palabras que consideramos positivas.\n",
    "#   - Ejemplo de palabras positivas: \"excelente\", \"encanta\", \"genial\", \"soberbio\".\n",
    "#3. Definir una lista de palabras que consideramos negativas.\n",
    "#   - Ejemplo de palabras negativas: \"terrible\", \"decepcionante\", \"dañado\".\n",
    "#4. Inicializar un contador para las palabras positivas y otro contador para las palabras negativas, ambos comenzando en cero.\n",
    "#5. Para cada comentario en la lista de comentarios:\n",
    "#   a. Convertir el comentario a minúsculas para que todas las palabras se comparen de manera uniforme.\n",
    "#   b. Para cada palabra en la lista de palabras positivas:\n",
    "#      - Si la palabra está presente en el comentario, incrementar el contador de palabras positivas.\n",
    "#   c. Para cada palabra en la lista de palabras negativas:\n",
    "#      - Si la palabra está presente en el comentario, incrementar el contador de palabras negativas.\n",
    "#6. Al finalizar, mostrar el total de palabras positivas y negativas encontradas en los comentarios.\n",
    "\n",
    "\n",
    "# Lista de comentarios de retroalimentación de los clientes\n",
    "feedback_comments = [\n",
    "    \"¡El producto es excelente! Me encanta.\",\n",
    "    \"Servicio al cliente terrible. Nunca volveré a comprar.\",\n",
    "    \"Gran calidad y entrega rápida.\",\n",
    "    \"Experiencia decepcionante. El artículo llegó dañado.\",\n",
    "    \"Soberbio valor por el precio.\",\n",
    "    \"El envío fue rápido y el producto es excelente.\",\n",
    "    \"La atención al cliente es muy mala, no volveré.\",\n",
    "    \"Me encantó el diseño del producto, es genial.\",\n",
    "    \"La calidad del material es decepcionante.\",\n",
    "    \"Un servicio increíble, definitivamente compraré de nuevo.\",\n",
    "    \"El producto llegó en perfectas condiciones, ¡muy feliz!\",\n",
    "    \"La experiencia de compra fue terrible y confusa.\",\n",
    "    \"El valor es justo para la calidad ofrecida, soberbio.\",\n",
    "    \"Desafortunadamente, el artículo llegó dañado.\",\n",
    "    \"¡Excelente compra! Estoy muy satisfecho.\"\n",
    "]\n",
    "# Definir listas de palabras clave positivas y negativas\n",
    "palabras_clave_positivas = [\"excelente\", \"encanta\", \"genial\",\"soberbio\"]\n",
    "palabras_clave_negativas = [\"terrible\", \"decepcionante\", \"dañado\"]\n",
    "\n",
    "# Crear un diccionario para contar la frecuencia de palabras clave\n",
    "frecuencia_palabras = {\n",
    "    \"positivas\": sum(1 for comentario in feedback_comments for palabra\n",
    "in palabras_clave_positivas if palabra in comentario.lower()), # Contar palabras positivas\n",
    "    \"negativas\": sum(1 for comentario in feedback_comments for palabra in palabras_clave_negativas if palabra in comentario.lower()) # Contar \n",
    "}\n",
    "# Mostrar los resultados\n",
    "print(\"Frecuencia de palabras clave:\", frecuencia_palabras)\n"
   ]
  },
  {
   "cell_type": "code",
   "execution_count": null,
   "id": "68b68ffc-0fd0-4417-b699-5335d7598b11",
   "metadata": {},
   "outputs": [],
   "source": []
  }
 ],
 "metadata": {
  "kernelspec": {
   "display_name": "Python 3 (ipykernel)",
   "language": "python",
   "name": "python3"
  },
  "language_info": {
   "codemirror_mode": {
    "name": "ipython",
    "version": 3
   },
   "file_extension": ".py",
   "mimetype": "text/x-python",
   "name": "python",
   "nbconvert_exporter": "python",
   "pygments_lexer": "ipython3",
   "version": "3.12.4"
  }
 },
 "nbformat": 4,
 "nbformat_minor": 5
}
