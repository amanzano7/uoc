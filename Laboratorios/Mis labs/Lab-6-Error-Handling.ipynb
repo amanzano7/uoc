{
 "cells": [
  {
   "cell_type": "code",
   "execution_count": 9,
   "id": "4760e355-de2b-41ef-b3f9-97ab2863a049",
   "metadata": {},
   "outputs": [
    {
     "name": "stdin",
     "output_type": "stream",
     "text": [
      "Introduce un número:  4\n"
     ]
    },
    {
     "name": "stdout",
     "output_type": "stream",
     "text": [
      "El resultado es: 2.5\n"
     ]
    }
   ],
   "source": [
    "# Ejemplo con múltiples excepciones.\n",
    "try:\n",
    "    x = int(input(\"Introduce un número: \"))\n",
    "    resultado = 10 / x\n",
    "except ValueError:\n",
    "    print(\"Error: Debes introducir un número válido.\")\n",
    "except ZeroDivisionError:\n",
    "    print(\"Error: No se puede dividir por cero.\")\n",
    "else:\n",
    "        print(\"El resultado es:\", resultado) # Se ejecuta si no hay error."
   ]
  },
  {
   "cell_type": "code",
   "execution_count": 13,
   "id": "72c46f54-5500-48c0-a54a-f7b243570b3c",
   "metadata": {},
   "outputs": [
    {
     "name": "stdout",
     "output_type": "stream",
     "text": [
      "Error: La edad debe ser al menos 18.\n"
     ]
    }
   ],
   "source": [
    "# Ejemplo de excepción personalizada.\n",
    "def verificar_edad(edad):\n",
    "    if edad < 18:\n",
    "        raise ValueError(\"La edad debe ser al menos 18.\")\n",
    "    return True\n",
    "try:\n",
    "    verificar_edad(15)\n",
    "except ValueError as e:\n",
    "    print(\"Error:\", e)"
   ]
  },
  {
   "cell_type": "code",
   "execution_count": 15,
   "id": "330778bc-43d0-4e76-8b83-5e69049b6f9a",
   "metadata": {},
   "outputs": [
    {
     "ename": "KeyError",
     "evalue": "'orange'",
     "output_type": "error",
     "traceback": [
      "\u001b[0;31m---------------------------------------------------------------------------\u001b[0m",
      "\u001b[0;31mKeyError\u001b[0m                                  Traceback (most recent call last)",
      "Cell \u001b[0;32mIn[15], line 3\u001b[0m\n\u001b[1;32m      1\u001b[0m \u001b[38;5;66;03m#Ejemplo adicional de KeyError:\u001b[39;00m\n\u001b[1;32m      2\u001b[0m dict_ \u001b[38;5;241m=\u001b[39m {\u001b[38;5;124m\"\u001b[39m\u001b[38;5;124mapple\u001b[39m\u001b[38;5;124m\"\u001b[39m: \u001b[38;5;241m1\u001b[39m, \u001b[38;5;124m\"\u001b[39m\u001b[38;5;124mbanana\u001b[39m\u001b[38;5;124m\"\u001b[39m: \u001b[38;5;241m2\u001b[39m}\n\u001b[0;32m----> 3\u001b[0m \u001b[38;5;28mprint\u001b[39m(dict_[\u001b[38;5;124m\"\u001b[39m\u001b[38;5;124morange\u001b[39m\u001b[38;5;124m\"\u001b[39m])\n",
      "\u001b[0;31mKeyError\u001b[0m: 'orange'"
     ]
    }
   ],
   "source": [
    "\n",
    "#Ejemplo adicional de KeyError:\n",
    "dict_ = {\"apple\": 1, \"banana\": 2}\n",
    "print(dict_[\"orange\"]) # Provocará una excepción: KeyError, porque la clave 'orange' no existe."
   ]
  },
  {
   "cell_type": "code",
   "execution_count": 20,
   "id": "510fccca-f11d-4e95-8b43-5ab5841dd8f6",
   "metadata": {},
   "outputs": [
    {
     "name": "stdout",
     "output_type": "stream",
     "text": [
      "El elemento 6 no se puede elevar al cuadrado, es de tipo <class 'str'>\n",
      "Lista de cuadrados: [1, 4, 9, 16, 25, 49, 64, 81]\n"
     ]
    }
   ],
   "source": [
    "# Ejemplo de lista con un elemento no numérico:\n",
    "lst_ = [1, 2, 3, 4, 5, \"6\", 7, 8, 9]\n",
    "# Intentamos elevar al cuadrado cada elemento de la lista.\n",
    "squared_list = []\n",
    "# Intentamos agregar el cuadrado de cada elemento a la lista.\n",
    "for i in lst_:\n",
    "    try:\n",
    "        squared_list.append(i**2) # Intenta elevar al cuadrado \n",
    "    except TypeError:\n",
    "        # Manejo del error si el elemento no es un número\n",
    "        print(f\"El elemento {i} no se puede elevar al cuadrado, es de tipo {type(i)}\")\n",
    "print(\"Lista de cuadrados:\", squared_list) # Muestra la lista con los cuadrados."
   ]
  },
  {
   "cell_type": "code",
   "execution_count": 28,
   "id": "562b9523-467e-4472-921a-ed2ed61ecde9",
   "metadata": {},
   "outputs": [
    {
     "name": "stdout",
     "output_type": "stream",
     "text": [
      "El elemento 6 no se puede elevar al cuadrado, es de tipo <class 'str'>\n",
      "Lista de cuadrados: [1, 4, 9, 16, 25, 49, 64, 81]\n",
      "Lista de excepciones: ['6']\n"
     ]
    }
   ],
   "source": [
    "# Ejemplo mejorado: lista para almacenar excepciones.\n",
    "lst_ = [1, 2, 3, 4, 5, \"6\", 7, 8, 9] # Lista original con un elemento no numérico.\n",
    " \n",
    "# Inicializa listas vacías para almacenar resultados y excepciones. \n",
    "squared_list = [] # Lista para almacenar los cuadrados de los elementos.\n",
    "exceptions_list = [] # Lista para almacenar elementos que causan errores.\n",
    "\n",
    "# Iteramos sobre cada elemento de la lista original.\n",
    "for i in lst_:\n",
    "    try:\n",
    "        squared_list.append(i**2) # Intenta elevar al cuadrado el elemento.\n",
    "    except TypeError:\n",
    "# Si ocurre un TypeError, se almacena el elemento que causó el error.\n",
    "        exceptions_list.append(i)\n",
    "        print(f\"El elemento {i} no se puede elevar al cuadrado, es de tipo {type(i)}\") # Mensaje de error.\n",
    "# Muestra la lista con los cuadrados y la lista de excepciones. \n",
    "print(\"Lista de cuadrados:\", squared_list) # Muestra la lista con los cuadrados.\n",
    "print(\"Lista de excepciones:\", exceptions_list) # Muestra la lista de excepciones."
   ]
  },
  {
   "cell_type": "code",
   "execution_count": 34,
   "id": "697242ac-642c-4863-b731-14a6daf5c146",
   "metadata": {},
   "outputs": [
    {
     "name": "stdout",
     "output_type": "stream",
     "text": [
      "El elemento 6 no se puede elevar al cuadrado, es de tipo <class 'str'>\n",
      "El elemento 10 no se puede elevar al cuadrado, es de tipo <class 'str'>\n",
      "El elemento [0] no se puede elevar al cuadrado, es de tipo <class 'list'>\n",
      "Lista de cuadrados: [1, 4, 9, 16, 25, 49, 64, 81]\n",
      "Lista de excepciones: ['6', '10', [0]]\n"
     ]
    }
   ],
   "source": [
    "# Definición de la función para elevar al cuadrado y manejar excepciones.\n",
    "def elements_powered(lst_):\n",
    "    \n",
    "# Inicializa listas vacías para almacenar resultados y excepciones.\n",
    "    squared_list = [] # Lista para almacenar los cuadrados de los elementos.\n",
    "    exceptions_list = [] # Lista para almacenar elementos que causan errores.\n",
    "\n",
    "# Iteramos sobre cada elemento de la lista proporcionada.\n",
    "    for i in lst_:\n",
    "        try:\n",
    "            squared_list.append(i**2) # Intenta elevar al cuadrado el elemento.\n",
    "        except TypeError:\n",
    "# Si ocurre un TypeError, se almacena el elemento que causó el error.\n",
    "            exceptions_list.append(i)\n",
    "            print(f\"El elemento {i} no se puede elevar al cuadrado, es de tipo {type(i)}\") # Mensaje de error.\n",
    "    return squared_list, exceptions_list # Devuelve ambas listas.\n",
    "\n",
    "# Uso de la función\n",
    "powered, exceptions = elements_powered([1, 2, 3, 4, 5, \"6\", 7, 8, 9,\"10\", [0]])\n",
    "# Muestra los resultados\n",
    "print(\"Lista de cuadrados:\", powered) # Muestra la lista con los cuadrados.\n",
    "print(\"Lista de excepciones:\", exceptions) # Muestra la lista de excepciones.\n"
   ]
  },
  {
   "cell_type": "code",
   "execution_count": 36,
   "id": "1d80dd7a-8345-44c0-a8d9-9543a172b76c",
   "metadata": {},
   "outputs": [
    {
     "ename": "AssertionError",
     "evalue": "No son iguales",
     "output_type": "error",
     "traceback": [
      "\u001b[0;31m---------------------------------------------------------------------------\u001b[0m",
      "\u001b[0;31mAssertionError\u001b[0m                            Traceback (most recent call last)",
      "Cell \u001b[0;32mIn[36], line 2\u001b[0m\n\u001b[1;32m      1\u001b[0m \u001b[38;5;66;03m# Ejemplo de aserciones que fallan:\u001b[39;00m\n\u001b[0;32m----> 2\u001b[0m \u001b[38;5;28;01massert\u001b[39;00m \u001b[38;5;241m10\u001b[39m \u001b[38;5;241m==\u001b[39m \u001b[38;5;241m11\u001b[39m, \u001b[38;5;124m\"\u001b[39m\u001b[38;5;124mNo son iguales\u001b[39m\u001b[38;5;124m\"\u001b[39m \u001b[38;5;66;03m# Esto lanzará un AssertionError. \u001b[39;00m\n\u001b[1;32m      3\u001b[0m \u001b[38;5;28;01massert\u001b[39;00m \u001b[38;5;241m10\u001b[39m \u001b[38;5;241m==\u001b[39m \u001b[38;5;241m11\u001b[39m, \u001b[38;5;124m\"\u001b[39m\u001b[38;5;124mHarold no murió :)\u001b[39m\u001b[38;5;124m\"\u001b[39m\n",
      "\u001b[0;31mAssertionError\u001b[0m: No son iguales"
     ]
    }
   ],
   "source": [
    "# Ejemplo de aserciones que fallan:\n",
    "assert 10 == 11, \"No son iguales\" # Esto lanzará un AssertionError. \n",
    "assert 10 == 11, \"Harold no murió :)\" # Esto lanzará un AssertionError."
   ]
  },
  {
   "cell_type": "code",
   "execution_count": 51,
   "id": "c9c38f72-09e8-482b-9c39-d4b791267723",
   "metadata": {},
   "outputs": [
    {
     "name": "stdout",
     "output_type": "stream",
     "text": [
      "8.0\n"
     ]
    }
   ],
   "source": [
    "def calcular_media(numeros):\n",
    "    assert len(numeros) > 0, \"La lista no puede estar vacía\" \n",
    "#Verifica que la lista no esté vacía\n",
    "    assert all(isinstance(num, (int, float)) for num in numeros), \"Todos los elementos deben ser números\" # Verifica que todos los elementos sean números\n",
    "    return sum(numeros) / len(numeros) # Devuelve la media\n",
    "# Prueba de la función\n",
    "try:\n",
    "    print(calcular_media([1, 20, 3])) # Esto debería funcionar print(calcular_media([])) \n",
    "# Esto provocará un AssertionError\n",
    "except AssertionError as e: \n",
    "    print(\"Error:\", e) # Manejo del error"
   ]
  },
  {
   "cell_type": "code",
   "execution_count": 55,
   "id": "d3fd4974-6766-47b3-8300-250121e7e105",
   "metadata": {},
   "outputs": [
    {
     "name": "stdout",
     "output_type": "stream",
     "text": [
      "7.3484692283495345\n",
      "Error: El número no puede ser negativo\n"
     ]
    }
   ],
   "source": [
    "import math\n",
    "def calcular_raiz_cuadrada(x):\n",
    "    assert x >= 0, \"El número no puede ser negativo\" # Verifica que x sea no negativo\n",
    "    return math.sqrt(x) # Devuelve la raíz cuadrada de x\n",
    "\n",
    "# Prueba de la función\n",
    "try:\n",
    "    print(calcular_raiz_cuadrada(54)) # Esto debería funcionar \n",
    "    print(calcular_raiz_cuadrada(-2)) # Esto provocará un AssertionError\n",
    "except AssertionError as e: print(\"Error:\", e) # Manejo del error\n"
   ]
  },
  {
   "cell_type": "code",
   "execution_count": 65,
   "id": "8e63919a-7637-4efe-b5ea-2aaaa3903f6e",
   "metadata": {},
   "outputs": [
    {
     "name": "stdout",
     "output_type": "stream",
     "text": [
      "20\n",
      "20\n",
      "Error: La cadena no puede ser convertida a un entero\n"
     ]
    }
   ],
   "source": [
    "def multiply_by_2(x):\n",
    "    # Verifica si x es un entero.\n",
    "    if type(x) == int:\n",
    "        return x * 2 # Retorna el valor multiplicado por 2.\n",
    "    # Verifica si x es una cadena.\n",
    "    elif type(x) == str:\n",
    "        try:\n",
    "    # Intenta convertir la cadena a entero y multiplicar por 2\n",
    "            return int(x) * 2\n",
    "        except ValueError:\n",
    "    # Lanza excepción si la conversión falla.\n",
    "            raise ValueError(\"La cadena no puede ser convertida a un entero\")\n",
    "\n",
    "    else:\n",
    "# Lanza excepción si x no es un entero ni una cadena que represente un entero.\n",
    "        raise ValueError(\"El argumento debe ser un entero o una cadena que represente un entero\")\n",
    "        \n",
    "# Intento de uso con un tipo incorrecto\n",
    "try:\n",
    "    resultado = multiply_by_2(10) # Esto lanzará una excepción.\n",
    "except ValueError as e:\n",
    "    print(\"Error:\", e) # Manejo del error para ValueError.\n",
    "\n",
    "\n",
    "# Llamadas adicionales para demostrar el manejo de excepciones\n",
    "\n",
    "try:\n",
    "    print(multiply_by_2(10))\n",
    "    print(multiply_by_2(\"10\"))\n",
    "    print(multiply_by_2(\"abc\"))\n",
    "except ValueError as e:\n",
    "    print (\"Error:\", e)"
   ]
  },
  {
   "cell_type": "code",
   "execution_count": 72,
   "id": "a41b720c-c45a-43cf-ace1-e88d6ef72a3d",
   "metadata": {},
   "outputs": [
    {
     "name": "stdout",
     "output_type": "stream",
     "text": [
      "20\n"
     ]
    }
   ],
   "source": [
    "# Definición de una excepción personalizada.\n",
    "class MyCoolException(Exception):\n",
    "    def __init__(self, string):\n",
    "        self.value = string\n",
    "    def __str__(self):\n",
    "        return f\"Se produjo un error aquí: {self.value}\"\n",
    "# Función que usa la excepción personalizada.\n",
    "def multiply_by_2(x):\n",
    "    if type(x) == int:\n",
    "        return x * 2 # Retorna el valor multiplicado por 2. \n",
    "    else:\n",
    "        raise MyCoolException(\"La entrada debe ser un entero\") # Lanza una excepción personalizada si el tipo no es correcto.\n",
    "# Intento de uso con un tipo incorrecto\n",
    "try:\n",
    "    result = multiply_by_2(5) # Esto lanzará la excepción personalizada.\n",
    "except MyCoolException as e:\n",
    "    print(e) # Manejo del error personalizado.\n",
    "\n",
    "# Llamada con un tipo correcto\n",
    "try:\n",
    "    print(multiply_by_2(10)) # Esto funcionará y mostrará 20.\n",
    "except MyCoolException as e:\n",
    "    print(e) # No se ejecutará porque no hay error."
   ]
  },
  {
   "cell_type": "code",
   "execution_count": 77,
   "id": "82efb473-b245-47f4-8073-ffd2925bb9d8",
   "metadata": {},
   "outputs": [
    {
     "name": "stdout",
     "output_type": "stream",
     "text": [
      "5.0\n",
      "Error: No se puede dividir por cero.\n",
      "None\n"
     ]
    }
   ],
   "source": [
    "# 1. División con Manejo de Excepciones:\n",
    "\n",
    "def division(numerator, denominator):\n",
    "    try:\n",
    "        result = numerator / denominator # Intenta realizar la división.\n",
    "    except ZeroDivisionError:\n",
    "        print(\"Error: No se puede dividir por cero.\") # Maneja la excepción si el denominador es cero.\n",
    "        return None\n",
    "    return result # Retorna el resultado si no hay excepción.\n",
    "\n",
    "# Uso de la función\n",
    "print(division(10, 2))\n",
    "print(division(10, 0))"
   ]
  },
  {
   "cell_type": "code",
   "execution_count": 82,
   "id": "12313a11-3096-4b06-b6ae-d5e11bfd4e85",
   "metadata": {},
   "outputs": [
    {
     "name": "stdin",
     "output_type": "stream",
     "text": [
      "Introduce un número entero:  '2'\n"
     ]
    },
    {
     "name": "stdout",
     "output_type": "stream",
     "text": [
      "Error: Debes introducir un número entero válido.\n"
     ]
    },
    {
     "name": "stdin",
     "output_type": "stream",
     "text": [
      "Introduce un número entero:  2\n"
     ]
    }
   ],
   "source": [
    "# 2. Validación de Entrada:\n",
    "\n",
    "def obtener_entero():\n",
    "    while True:\n",
    "        try:\n",
    "            numero = int(input(\"Introduce un número entero: \")) # Intenta convertir la entrada a entero.\n",
    "            return numero # Retorna el número si la conversión es exitosa.\n",
    "        except ValueError: print(\"Error: Debes introducir un número entero válido.\")\n",
    "    \n",
    "# Uso de la función\n",
    "numero = obtener_entero()\n"
   ]
  },
  {
   "cell_type": "code",
   "execution_count": 83,
   "id": "f897b220-593a-4316-84fb-f191cf908a6c",
   "metadata": {},
   "outputs": [
    {
     "name": "stdout",
     "output_type": "stream",
     "text": [
      "Error: Archivo no encontrado.\n",
      "Error: No existe archivo para cerrar\n",
      "\n"
     ]
    }
   ],
   "source": [
    "\n",
    "# 3. Uso de `finally`:\n",
    "def leer_archivo(filename):\n",
    "    try:\n",
    "        file = open(filename, 'r') # Intenta abrir el archivo.\n",
    "        content = file.read() # Lee el contenido del archivo.\n",
    "        return content\n",
    "    except FileNotFoundError:\n",
    "        print(\"Error: Archivo no encontrado.\") # Maneja la excepción si el archivo no existe.\n",
    "        return \"\" # Retorna una cadena vacía si ocurre un error. \n",
    "    finally:\n",
    "        try:\n",
    "            file.close() # Siempre cierra el archivo, incluso si hay un error.\n",
    "        except:\n",
    "            print(\"Error: No existe archivo para cerrar\")\n",
    "# Uso de la función\n",
    "print(leer_archivo(\"archivo.txt\"))"
   ]
  },
  {
   "cell_type": "code",
   "execution_count": 89,
   "id": "44d6c63f-4156-4e2e-ac70-d1b3f0f5c4bf",
   "metadata": {},
   "outputs": [
    {
     "name": "stdout",
     "output_type": "stream",
     "text": [
      "4.0\n",
      "El número no puede ser negativo.\n",
      "\n"
     ]
    }
   ],
   "source": [
    "# 4. Uso de `else` en Manejo de Excepciones:\n",
    "import math\n",
    "def raiz_cuadrada(numero):\n",
    "    try:\n",
    "        if numero < 0:\n",
    "            raise ValueError(\"El número no puede ser negativo.\") # Lanza una excepción si el número es negativo.\n",
    "        resultado = math.sqrt(numero) # Calcula la raíz cuadrada.\n",
    "    except ValueError as e:\n",
    "        print(e) # Maneja el error si se lanza una excepción. \n",
    "        return \"\"\n",
    "    else:\n",
    "        return resultado # Retorna el resultado si no hay excepción.\n",
    "# Uso de la función\n",
    "print(raiz_cuadrada(16))\n",
    "print(raiz_cuadrada(-4))\n"
   ]
  },
  {
   "cell_type": "code",
   "execution_count": 103,
   "id": "bf270ec3-fe34-4c7b-80cf-db70026535c7",
   "metadata": {},
   "outputs": [],
   "source": [
    "# 6. Uso de `raise` para Excepciones Personalizadas:\n",
    "\n",
    "class NegativeNumberError(Exception):\n",
    "    pass\n",
    "def verificar_numero(num):\n",
    "    if num < 0:\n",
    "        raise NegativeNumberError(\"El número no puede ser negativo.\") # Lanza una excepción personalizada.\n",
    "    return num # Retorna el número si no es negativo.\n",
    "        \n",
    "# Uso de la función\n",
    "try:\n",
    "    verificar_numero(2) # Esto lanzará la excepción personalizada.\n",
    "except NegativeNumberError as e:\n",
    "    print(e) # Manejo del error personalizado.\n",
    "\n"
   ]
  },
  {
   "cell_type": "code",
   "execution_count": 104,
   "id": "030668df-f53b-4dd8-99c2-559c5b33055d",
   "metadata": {},
   "outputs": [
    {
     "name": "stdout",
     "output_type": "stream",
     "text": [
      "Número convertido: 123\n",
      "Error: La cadena no se puede convertir a un entero.\n"
     ]
    }
   ],
   "source": [
    "# 7. Conversión de Cadenas a Números:\n",
    "\n",
    "def convertir_a_entero(cadena):\n",
    "    try:\n",
    "        numero = int(cadena) # Intenta convertir la cadena a entero.\n",
    "        print(f\"Número convertido: {numero}\") # Muestra el número convertido.\n",
    "    except ValueError:\n",
    "        print(\"Error: La cadena no se puede convertir a un entero.\") # Manejo del error de conversión.\n",
    "        \n",
    "# Uso de la función\n",
    "convertir_a_entero(\"123\")\n",
    "convertir_a_entero(\"abc\")\n"
   ]
  },
  {
   "cell_type": "code",
   "execution_count": 106,
   "id": "f3b47150-8705-4d5a-8989-7cb37b530282",
   "metadata": {},
   "outputs": [
    {
     "name": "stdout",
     "output_type": "stream",
     "text": [
      "Error: Archivo CSV no encontrado.\n",
      "Intento de lectura del archivo completada.\n"
     ]
    }
   ],
   "source": [
    "# 8. Lectura de Datos de un Archivo CSV:\n",
    "\n",
    "import csv\n",
    "\n",
    "def leer_csv(filename):\n",
    "    try:\n",
    "        with open(filename, 'r') as file: # Intenta abrir el archivo\n",
    "            reader = csv.reader(file) # Crea un lector CSV. for row in reader:\n",
    "            for row in reader:\n",
    "                print(row) # Imprime cada fila del archivo. \n",
    "                \n",
    "    except FileNotFoundError:\n",
    "        print(\"Error: Archivo CSV no encontrado.\") # Maneja el error si el archivo no existe.\n",
    "    finally:\n",
    "        print(\"Intento de lectura del archivo completada.\") # Mensaje final al completar la ejecución\n",
    "        \n",
    "# Uso de la función\n",
    "leer_csv(\"datos.csv\")"
   ]
  },
  {
   "cell_type": "code",
   "execution_count": 108,
   "id": "b923a2e0-65bf-4356-bd19-ef2055bfd419",
   "metadata": {},
   "outputs": [
    {
     "name": "stdout",
     "output_type": "stream",
     "text": [
      "El correo electrónico es válido.\n",
      "El correo electrónico es válido.\n"
     ]
    }
   ],
   "source": [
    "# 9. Validación de Correo Electrónico:\n",
    "\n",
    "def validar_correo(correo): \n",
    "    \n",
    "# Asegura que el correo tenga formato correcto.\n",
    "    assert ('@' in correo and '.' in correo), \"El correo electrónico no es válido.\"\n",
    "    print(\"El correo electrónico es válido.\") # Mensaje de éxito si no hay excepción.\n",
    "\n",
    "# Uso de la función con un correo válido\n",
    "try:\n",
    "    validar_correo(\"ejemplo@dominio.com\")\n",
    "except AssertionError as e:\n",
    "    print(e)\n",
    "try:\n",
    "    validar_correo(\"@.\")\n",
    "except AssertionError as e:\n",
    "    print(e)"
   ]
  },
  {
   "cell_type": "code",
   "execution_count": 113,
   "id": "a3376f54-8c5a-4795-9d8f-0cf57a7092f4",
   "metadata": {},
   "outputs": [
    {
     "name": "stdout",
     "output_type": "stream",
     "text": [
      "1.8\n",
      "La lista no puede estar vacía para calcular el promedio.\n",
      "\n"
     ]
    }
   ],
   "source": [
    "# 10. Cálculo de Promedio con Manejo de Excepciones:\n",
    "\n",
    "def calcular_promedio(lista):\n",
    "    try:\n",
    "        if len(lista) == 0:\n",
    "            raise ValueError(\"La lista no puede estar vacía para calcular el promedio.\")  # Lanza excepción si la lista está vacía. \n",
    "        promedio = sum(lista) / len(lista) # Calcula el promedio. \n",
    "        return promedio # Retorna el promedio.\n",
    "    except ValueError as e:\n",
    "        print (e) # Manejo del error si se lanza una excepción.\n",
    "        return \"\"  \n",
    "        \n",
    "# Uso de la función\n",
    "print(calcular_promedio([1, 2, 3, 4,-1]))\n",
    "print(calcular_promedio([]))"
   ]
  },
  {
   "cell_type": "code",
   "execution_count": 118,
   "id": "4813e382-e0fd-4582-a7da-48c3aae41085",
   "metadata": {},
   "outputs": [
    {
     "name": "stdout",
     "output_type": "stream",
     "text": [
      "Bienvenido al Seguidor de Gastos Mensuales\n"
     ]
    },
    {
     "name": "stdin",
     "output_type": "stream",
     "text": [
      "Ingrese el gasto del día 1 (o escriba 'fin' para terminar):  3\n",
      "Ingrese el gasto del día 1 (o escriba 'fin' para terminar):  2\n",
      "Ingrese el gasto del día 1 (o escriba 'fin' para terminar):  s\n"
     ]
    },
    {
     "name": "stdout",
     "output_type": "stream",
     "text": [
      "Entrada no válida. Por favor, ingrese un número válido o 'fin' para terminar.\n"
     ]
    },
    {
     "name": "stdin",
     "output_type": "stream",
     "text": [
      "Ingrese el gasto del día 1 (o escriba 'fin' para terminar):  \n"
     ]
    },
    {
     "name": "stdout",
     "output_type": "stream",
     "text": [
      "Entrada no válida. Por favor, ingrese un número válido o 'fin' para terminar.\n"
     ]
    },
    {
     "name": "stdin",
     "output_type": "stream",
     "text": [
      "Ingrese el gasto del día 1 (o escriba 'fin' para terminar):  5\n",
      "Ingrese el gasto del día 1 (o escriba 'fin' para terminar):  6\n",
      "Ingrese el gasto del día 1 (o escriba 'fin' para terminar):  fin\n",
      "Ingrese el gasto del día 2 (o escriba 'fin' para terminar):  5\n",
      "Ingrese el gasto del día 2 (o escriba 'fin' para terminar):  fin\n",
      "Ingrese el gasto del día 3 (o escriba 'fin' para terminar):  7\n",
      "Ingrese el gasto del día 3 (o escriba 'fin' para terminar):  fin\n"
     ]
    },
    {
     "name": "stdout",
     "output_type": "stream",
     "text": [
      "Gasto total del mes: 28.00\n",
      "Detalles de los gastos: [3.0, 2.0, 5.0, 6.0, 5.0, 7.0]\n"
     ]
    }
   ],
   "source": [
    "# Ejemplo 1: Seguidor de Gastos Mensuales\n",
    "# Declaración del Problema:\n",
    "# Imagina que formas parte de un pequeño equipo de negocio, y tu gerente se ha acercado a ti con una tarea. Quieren que crees un programa fácil de usar para ayudar a rastrear los gastos mensuales. Tu programa debe permitir a los usuarios ingresar gastos diarios y, al final del mes, calcular sin esfuerzo el gasto total.\n",
    "\n",
    "\n",
    "# INICIO\n",
    "#    DECLARAR gastos COMO LISTA VACÍA\n",
    "#    DECLARAR totalGasto COMO NÚMERO\n",
    "#    totalGasto <- 0\n",
    "#    IMPRIMIR \"Bienvenido al Seguidor de Gastos Mensuales\"\n",
    "#    PARA cada día EN el mes HACER\n",
    "#        IMPRIMIR \"Ingrese el gasto del día \", día, \" (o escriba 'fin' para terminar):\"\n",
    "# LEER gasto\n",
    "#        SI gasto ES igual a 'fin' ENTONCES\n",
    "#            SALIR DEL BUCLE\n",
    "# FIN SI\n",
    "#        AÑADIR gasto A la lista gastos\n",
    "#        totalGasto <- totalGasto + gasto\n",
    "# FIN PARA\n",
    "#    IMPRIMIR \"Gasto total del mes: \", totalGasto\n",
    "#    IMPRIMIR \"Detalles de los gastos: \", gastos\n",
    "# FIN\n",
    "# INICIO\n",
    "# Declarar gastos como lista vacía gastos = []\n",
    "# Declarar totalGasto como número totalGasto = 0.0\n",
    "\n",
    "\n",
    "# INICIO\n",
    "\n",
    "# Declarar gastos como lista vacía \n",
    "gastos = []\n",
    "\n",
    "# Declarar totalGasto como número \n",
    "\n",
    "totalGasto = 0.0\n",
    "\n",
    "\n",
    "# Imprimir bienvenida\n",
    "print(\"Bienvenido al Seguidor de Gastos Mensuales\")\n",
    "\n",
    "# Definir el número de días en el mes (asumiendo 3 días para este ejemplo)\n",
    "num_dias = 3\n",
    "\n",
    "# Para cada día en el mes hacer\n",
    "for dia in range(1, num_dias + 1):\n",
    "    while True: # Bucle para asegurar entrada válida\n",
    "        try:\n",
    "            \n",
    "# Imprimir solicitud de gasto\n",
    "            gasto_input = input(f\"Ingrese el gasto del día {dia} (o escriba 'fin' para terminar): \")\n",
    "            # Si gasto es igual a 'fin' entonces salir del bucle\n",
    "            if gasto_input.lower() == 'fin':\n",
    "                break\n",
    "            # Convertir entrada a número flotante\n",
    "            gasto = float(gasto_input)\n",
    "            # Aumentar el total de gastos y añadir a la lista\n",
    "            gastos.append(gasto)\n",
    "            totalGasto += gasto\n",
    "            \n",
    "        except ValueError:\n",
    "            \n",
    "            print(\"Entrada no válida. Por favor, ingrese un número válido o 'fin' para terminar.\")\n",
    "            \n",
    "# Imprimir el total de gastos y detalles\n",
    "\n",
    "print(f\"Gasto total del mes: {totalGasto:.2f}\") \n",
    "print(\"Detalles de los gastos:\", gastos)\n"
   ]
  },
  {
   "cell_type": "code",
   "execution_count": 131,
   "id": "798ecdff-acf1-4034-ad4d-c9616039cd01",
   "metadata": {},
   "outputs": [
    {
     "name": "stdout",
     "output_type": "stream",
     "text": [
      "Bienvenido al Sistema de Inventario\n",
      "\n",
      "Elija una opción:\n",
      "1. Añadir producto\n",
      "2. Mostrar inventario\n",
      "3. Buscar producto\n",
      "4. Actualizar cantidad\n",
      "5. Calcular valor total\n",
      "6. Salir\n"
     ]
    },
    {
     "name": "stdin",
     "output_type": "stream",
     "text": [
      "Opción:  2\n"
     ]
    },
    {
     "name": "stdout",
     "output_type": "stream",
     "text": [
      "Inventario actual:\n",
      "\n",
      "Elija una opción:\n",
      "1. Añadir producto\n",
      "2. Mostrar inventario\n",
      "3. Buscar producto\n",
      "4. Actualizar cantidad\n",
      "5. Calcular valor total\n",
      "6. Salir\n"
     ]
    },
    {
     "name": "stdin",
     "output_type": "stream",
     "text": [
      "Opción:  1\n",
      "Ingrese el nombre del producto:  cama\n",
      "Ingrese el precio del producto:  50\n",
      "Ingrese la cantidad del producto:  5\n"
     ]
    },
    {
     "name": "stdout",
     "output_type": "stream",
     "text": [
      "\n",
      "Elija una opción:\n",
      "1. Añadir producto\n",
      "2. Mostrar inventario\n",
      "3. Buscar producto\n",
      "4. Actualizar cantidad\n",
      "5. Calcular valor total\n",
      "6. Salir\n"
     ]
    },
    {
     "name": "stdin",
     "output_type": "stream",
     "text": [
      "Opción:  2\n"
     ]
    },
    {
     "name": "stdout",
     "output_type": "stream",
     "text": [
      "Inventario actual:\n",
      "Nombre: cama, Precio: 50.00, Cantidad: 5\n",
      "\n",
      "Elija una opción:\n",
      "1. Añadir producto\n",
      "2. Mostrar inventario\n",
      "3. Buscar producto\n",
      "4. Actualizar cantidad\n",
      "5. Calcular valor total\n",
      "6. Salir\n"
     ]
    },
    {
     "name": "stdin",
     "output_type": "stream",
     "text": [
      "Opción:  3\n",
      "Ingrese el nombre del producto a buscar:  Cama\n"
     ]
    },
    {
     "name": "stdout",
     "output_type": "stream",
     "text": [
      "Producto encontrado: {'nombre': 'cama', 'precio': 50.0, 'cantidad': 5}\n",
      "\n",
      "Elija una opción:\n",
      "1. Añadir producto\n",
      "2. Mostrar inventario\n",
      "3. Buscar producto\n",
      "4. Actualizar cantidad\n",
      "5. Calcular valor total\n",
      "6. Salir\n"
     ]
    },
    {
     "name": "stdin",
     "output_type": "stream",
     "text": [
      "Opción:  4\n",
      "Ingrese el nombre del producto a actualizar:  cama\n",
      "Ingrese la nueva cantidad:  89\n"
     ]
    },
    {
     "name": "stdout",
     "output_type": "stream",
     "text": [
      "Cantidad actualizada para cama.\n",
      "\n",
      "Elija una opción:\n",
      "1. Añadir producto\n",
      "2. Mostrar inventario\n",
      "3. Buscar producto\n",
      "4. Actualizar cantidad\n",
      "5. Calcular valor total\n",
      "6. Salir\n"
     ]
    },
    {
     "name": "stdin",
     "output_type": "stream",
     "text": [
      "Opción:  2\n"
     ]
    },
    {
     "name": "stdout",
     "output_type": "stream",
     "text": [
      "Inventario actual:\n",
      "Nombre: cama, Precio: 50.00, Cantidad: 89\n",
      "\n",
      "Elija una opción:\n",
      "1. Añadir producto\n",
      "2. Mostrar inventario\n",
      "3. Buscar producto\n",
      "4. Actualizar cantidad\n",
      "5. Calcular valor total\n",
      "6. Salir\n"
     ]
    },
    {
     "name": "stdin",
     "output_type": "stream",
     "text": [
      "Opción:  1\n",
      "Ingrese el nombre del producto:  celular\n",
      "Ingrese el precio del producto:  500\n",
      "Ingrese la cantidad del producto:  1\n"
     ]
    },
    {
     "name": "stdout",
     "output_type": "stream",
     "text": [
      "\n",
      "Elija una opción:\n",
      "1. Añadir producto\n",
      "2. Mostrar inventario\n",
      "3. Buscar producto\n",
      "4. Actualizar cantidad\n",
      "5. Calcular valor total\n",
      "6. Salir\n"
     ]
    },
    {
     "name": "stdin",
     "output_type": "stream",
     "text": [
      "Opción:  2\n"
     ]
    },
    {
     "name": "stdout",
     "output_type": "stream",
     "text": [
      "Inventario actual:\n",
      "Nombre: cama, Precio: 50.00, Cantidad: 89\n",
      "Nombre: celular, Precio: 500.00, Cantidad: 1\n",
      "\n",
      "Elija una opción:\n",
      "1. Añadir producto\n",
      "2. Mostrar inventario\n",
      "3. Buscar producto\n",
      "4. Actualizar cantidad\n",
      "5. Calcular valor total\n",
      "6. Salir\n"
     ]
    },
    {
     "name": "stdin",
     "output_type": "stream",
     "text": [
      "Opción:  5\n"
     ]
    },
    {
     "name": "stdout",
     "output_type": "stream",
     "text": [
      "Valor total del inventario: 4950.00\n",
      "\n",
      "Elija una opción:\n",
      "1. Añadir producto\n",
      "2. Mostrar inventario\n",
      "3. Buscar producto\n",
      "4. Actualizar cantidad\n",
      "5. Calcular valor total\n",
      "6. Salir\n"
     ]
    },
    {
     "name": "stdin",
     "output_type": "stream",
     "text": [
      "Opción:  6\n"
     ]
    },
    {
     "name": "stdout",
     "output_type": "stream",
     "text": [
      "Saliendo del sistema.\n"
     ]
    }
   ],
   "source": [
    "# INICIO\n",
    "\n",
    "# Declarar inventario como lista vacía \n",
    "\n",
    "inventario = []\n",
    "\n",
    "def añadirProducto(nombre, precio, cantidad): \n",
    "    \"\"\"Añade un producto al inventario.\"\"\" \n",
    "    producto = {\n",
    "        \"nombre\": nombre,\n",
    "        \"precio\": precio,\n",
    "        \"cantidad\": cantidad\n",
    "}\n",
    "\n",
    "    inventario.append(producto)\n",
    "\n",
    "\n",
    "def mostrarInventario():\n",
    "    \"\"\"Muestra el inventario actual.\"\"\"\n",
    "\n",
    "    print(\"Inventario actual:\") \n",
    "    for producto in inventario:\n",
    "        print(f\"Nombre: {producto['nombre']}, Precio: {producto['precio']:.2f}, Cantidad: {producto['cantidad']}\")\n",
    "\n",
    "\n",
    "def buscarProducto(nombre):\n",
    "    \"\"\"Busca un producto por nombre en el inventario.\"\"\" \n",
    "    for producto in inventario:\n",
    "        if producto[\"nombre\"].lower() == nombre.lower():\n",
    "            print(\"Producto encontrado:\", producto)\n",
    "            return producto\n",
    "    print(\"Producto no encontrado.\")\n",
    "    return None\n",
    "\n",
    "\n",
    "def actualizarCantidad(nombre, nuevaCantidad):\n",
    "    \"\"\"Actualiza la cantidad de un producto en el inventario.\"\"\" \n",
    "    for producto in inventario:\n",
    "        if producto[\"nombre\"].lower() == nombre.lower():\n",
    "            producto[\"cantidad\"] = nuevaCantidad\n",
    "            print(f\"Cantidad actualizada para {nombre}.\")\n",
    "            return\n",
    "    print(\"Producto no encontrado.\")\n",
    "\n",
    "\n",
    "def calcularValorTotal():\n",
    "    \"\"\"Calcula y muestra el valor total del inventario.\"\"\" \n",
    "    total = 0\n",
    "    for producto in inventario:\n",
    "        total += producto[\"precio\"] * producto[\"cantidad\"]\n",
    "    print(f\"Valor total del inventario: {total:.2f}\")\n",
    "\n",
    "\n",
    "# IMPRIMIR bienvenida\n",
    "print(\"Bienvenido al Sistema de Inventario\")\n",
    "\n",
    "\n",
    "while True:\n",
    "# Opciones del menú \n",
    "    print(\"\\nElija una opción:\") \n",
    "    print(\"1. Añadir producto\") \n",
    "    print(\"2. Mostrar inventario\") \n",
    "    print(\"3. Buscar producto\") \n",
    "    print(\"4. Actualizar cantidad\") \n",
    "    print(\"5. Calcular valor total\") \n",
    "    print(\"6. Salir\")\n",
    "    \n",
    "    try:\n",
    "# Leer opción\n",
    "        opcion = int(input(\"Opción: \"))\n",
    "\n",
    "# SEGÚN opción HACER\n",
    "        if opcion == 1:\n",
    "            # Añadir producto\n",
    "            nombre = input(\"Ingrese el nombre del producto: \")\n",
    "            precio = float(input(\"Ingrese el precio del producto: \"))\n",
    "            cantidad = int(input(\"Ingrese la cantidad del producto: \"))\n",
    "                                                                                         \n",
    "            añadirProducto(nombre, precio, cantidad)\n",
    "                               \n",
    "        elif opcion == 2:\n",
    "# Mostrar inventario \n",
    "            mostrarInventario()\n",
    "                \n",
    "        elif opcion == 3:\n",
    "# Buscar producto\n",
    "            nombre = input(\"Ingrese el nombre del producto a buscar: \")\n",
    "            buscarProducto(nombre)\n",
    "                \n",
    "        elif opcion == 4:\n",
    "                \n",
    "# Actualizar cantidad\n",
    "            nombre = input(\"Ingrese el nombre del producto a actualizar: \")\n",
    "            nuevaCantidad = int(input(\"Ingrese la nueva cantidad: \"))\n",
    "            actualizarCantidad(nombre, nuevaCantidad)\n",
    "                \n",
    "        elif opcion == 5:\n",
    "# Calcular valor total \n",
    "            calcularValorTotal()\n",
    "                \n",
    "        elif opcion == 6: # Salir\n",
    "            print(\"Saliendo del sistema.\")\n",
    "            break\n",
    "        else:\n",
    "                print(\"Opción no válida. Por favor, elija una opción del 1 al 6.\")\n",
    "                \n",
    "    except ValueError:\n",
    "        print(\"Entrada no válida. Asegúrese de ingresar números donde se solicita.\") \n",
    "\n",
    "# FIN"
   ]
  },
  {
   "cell_type": "code",
   "execution_count": 142,
   "id": "4dc7a01f-f6fb-433c-82c7-60c58c8c46f2",
   "metadata": {},
   "outputs": [
    {
     "name": "stdout",
     "output_type": "stream",
     "text": [
      "Bienvenido al Gestor de Tareas\n",
      "\n",
      "Elija una opción:\n",
      "1. Agregar tarea\n",
      "2. Mostrar tareas\n",
      "3. Marcar tarea como completada\n",
      "4. Eliminar tarea\n",
      "5. Salir\n"
     ]
    },
    {
     "name": "stdin",
     "output_type": "stream",
     "text": [
      "Opción:  1\n",
      "Ingrese la descripción de la tarea:  MEDITAR\n"
     ]
    },
    {
     "name": "stdout",
     "output_type": "stream",
     "text": [
      "\n",
      "Elija una opción:\n",
      "1. Agregar tarea\n",
      "2. Mostrar tareas\n",
      "3. Marcar tarea como completada\n",
      "4. Eliminar tarea\n",
      "5. Salir\n"
     ]
    },
    {
     "name": "stdin",
     "output_type": "stream",
     "text": [
      "Opción:  2\n"
     ]
    },
    {
     "name": "stdout",
     "output_type": "stream",
     "text": [
      "Tareas actuales:\n",
      "[ ] MEDITAR (Índice: 0)\n",
      "\n",
      "Elija una opción:\n",
      "1. Agregar tarea\n",
      "2. Mostrar tareas\n",
      "3. Marcar tarea como completada\n",
      "4. Eliminar tarea\n",
      "5. Salir\n"
     ]
    },
    {
     "name": "stdin",
     "output_type": "stream",
     "text": [
      "Opción:  3\n",
      "Ingrese el índice de la tarea a marcar como completada:  0\n"
     ]
    },
    {
     "name": "stdout",
     "output_type": "stream",
     "text": [
      "Tarea marcada como completada.\n",
      "\n",
      "Elija una opción:\n",
      "1. Agregar tarea\n",
      "2. Mostrar tareas\n",
      "3. Marcar tarea como completada\n",
      "4. Eliminar tarea\n",
      "5. Salir\n"
     ]
    },
    {
     "name": "stdin",
     "output_type": "stream",
     "text": [
      "Opción:  2\n"
     ]
    },
    {
     "name": "stdout",
     "output_type": "stream",
     "text": [
      "Tareas actuales:\n",
      "[X] MEDITAR (Índice: 0)\n",
      "\n",
      "Elija una opción:\n",
      "1. Agregar tarea\n",
      "2. Mostrar tareas\n",
      "3. Marcar tarea como completada\n",
      "4. Eliminar tarea\n",
      "5. Salir\n"
     ]
    },
    {
     "name": "stdin",
     "output_type": "stream",
     "text": [
      "Opción:  4\n",
      "Ingrese el índice de la tarea a eliminar:  0\n"
     ]
    },
    {
     "name": "stdout",
     "output_type": "stream",
     "text": [
      "Tarea eliminada.\n",
      "\n",
      "Elija una opción:\n",
      "1. Agregar tarea\n",
      "2. Mostrar tareas\n",
      "3. Marcar tarea como completada\n",
      "4. Eliminar tarea\n",
      "5. Salir\n"
     ]
    },
    {
     "name": "stdin",
     "output_type": "stream",
     "text": [
      "Opción:  5\n"
     ]
    },
    {
     "name": "stdout",
     "output_type": "stream",
     "text": [
      "Saliendo del gestor de tareas.\n"
     ]
    }
   ],
   "source": [
    "# INICIO\n",
    "\n",
    "# Declarar tareas como lista vacía \n",
    "\n",
    "tareas = []\n",
    "\n",
    "\n",
    "def agregarTarea(descripcion):\n",
    "    \"\"\"Agrega una tarea a la lista de tareas.\"\"\" \n",
    "    tarea = {\n",
    "        \"descripcion\": descripcion,\n",
    "        \"completada\": False\n",
    "    }\n",
    "    tareas.append(tarea)\n",
    "    \n",
    "def mostrarTareas():\n",
    "    \"\"\"Muestra las tareas actuales.\"\"\"\n",
    "    print(\"Tareas actuales:\")\n",
    "    if not tareas:\n",
    "        print(\"No hay tareas en la lista.\")\n",
    "    else:\n",
    "        for indice, tarea in enumerate(tareas):\n",
    "            estado = \"[X]\" if tarea[\"completada\"] else \"[ ]\"\n",
    "            print(f\"{estado} {tarea['descripcion']} (Índice: {indice})\")\n",
    "\n",
    "\n",
    "def marcarComoCompletada(indice): \n",
    "    \"\"\"Marca una tarea como completada.\"\"\" \n",
    "    if 0 <= indice < len(tareas):\n",
    "        tareas[indice][\"completada\"] = True\n",
    "        print(\"Tarea marcada como completada.\")\n",
    "    else:\n",
    "        print(\"Índice no válido.\")\n",
    "        \n",
    "def eliminarTarea(indice):\n",
    "    \"\"\"Elimina una tarea de la lista.\"\"\" \n",
    "    if 0 <= indice < len(tareas):\n",
    "        del tareas[indice]\n",
    "        print(\"Tarea eliminada.\")\n",
    "    else:\n",
    "        print(\"Índice no válido.\") \n",
    "        \n",
    "\n",
    "# IMPRIMIR bienvenida\n",
    "\n",
    "\n",
    "print(\"Bienvenido al Gestor de Tareas\")\n",
    "while True:\n",
    "        \n",
    "# Opciones del menú \n",
    "        print(\"\\nElija una opción:\") \n",
    "        print(\"1. Agregar tarea\") \n",
    "        print(\"2. Mostrar tareas\")\n",
    "        print(\"3. Marcar tarea como completada\")\n",
    "        print(\"4. Eliminar tarea\")\n",
    "        print(\"5. Salir\")\n",
    "        \n",
    "        try:\n",
    "\n",
    "        \n",
    "# Leer opción\n",
    "        \n",
    "            opcion = int(input(\"Opción: \"))\n",
    "    # SEGÚN opción HACER\n",
    "            if opcion == 1:\n",
    "# Agregar tarea\n",
    "                descripcion = input(\"Ingrese la descripción de la tarea: \")\n",
    "                agregarTarea(descripcion)\n",
    "\n",
    "            elif opcion == 2:\n",
    "# Mostrar tareas\n",
    "                mostrarTareas()\n",
    "                \n",
    "            elif opcion == 3:\n",
    "                \n",
    "# Marcar tarea como completada\n",
    "                indice = int(input(\"Ingrese el índice de la tarea a marcar como completada: \"))\n",
    "                marcarComoCompletada(indice)\n",
    "                \n",
    "            elif opcion == 4:\n",
    "                \n",
    "# Eliminar tarea\n",
    "                indice = int(input(\"Ingrese el índice de la tarea a eliminar: \"))\n",
    "                eliminarTarea(indice)\n",
    "                \n",
    "            elif opcion == 5: # Salir\n",
    "                print(\"Saliendo del gestor de tareas.\")\n",
    "                break\n",
    "            else:\n",
    "                 \n",
    "                 print(\"Opción no válida. Por favor, elija una opción del 1 al 5.\")\n",
    "                 \n",
    "        except ValueError:\n",
    "            print(\"Entrada no válida. Asegúrese de ingresar números donde se solicita.\") \n",
    "\n",
    "# FIN"
   ]
  },
  {
   "cell_type": "code",
   "execution_count": null,
   "id": "73daae17-b0d4-4a87-8a8a-33f4949be8b1",
   "metadata": {},
   "outputs": [],
   "source": []
  }
 ],
 "metadata": {
  "kernelspec": {
   "display_name": "Python 3 (ipykernel)",
   "language": "python",
   "name": "python3"
  },
  "language_info": {
   "codemirror_mode": {
    "name": "ipython",
    "version": 3
   },
   "file_extension": ".py",
   "mimetype": "text/x-python",
   "name": "python",
   "nbconvert_exporter": "python",
   "pygments_lexer": "ipython3",
   "version": "3.12.4"
  }
 },
 "nbformat": 4,
 "nbformat_minor": 5
}
