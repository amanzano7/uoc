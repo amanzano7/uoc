{
 "cells": [
  {
   "cell_type": "code",
   "execution_count": 85,
   "id": "93c6c1d2-3143-44c0-b33a-afd97bcf9b28",
   "metadata": {},
   "outputs": [
    {
     "name": "stdout",
     "output_type": "stream",
     "text": [
      "['El  Camino del Artista', 'Cien años de soledad', 'El Principito', 'La sombra del viento', 'El arte de la guerra']\n"
     ]
    }
   ],
   "source": [
    "import re\n",
    "# Texto HTML que contiene la información de los libros\n",
    "texto_html = \"\"\"\n",
    "<html>\n",
    "<head>\n",
    " <title>Catálogo de Libros</title>\n",
    "</head>\n",
    "<body>\n",
    " <h1>Bienvenidos a nuestra tienda de libros</h1>\n",
    " <p>Estamos emocionados de presentar una amplia variedad de libros.\n",
    "Algunos de nuestros títulos más populares incluyen:</p>\n",
    "\n",
    " <div class=\"producto\">\n",
    " <p>He estado leyendo un libro fascinante llamado <strong>El \n",
    "Camino del Artista</strong>, de <em>Julia Cameron</em>. Te lo\n",
    "recomiendo mucho, realmente es transformador.\n",
    " Por cierto, puedes comprarlo por solo <span>$15.99</span> si\n",
    "te interesa.\n",
    " Recuerda que hay <strong>34 unidades en stock</strong>.</p>\n",
    " <p>Si deseas más información, contacta a <a\n",
    "href=\"mailto:julia@example.com\">julia@example.com</a> o llama al +34\n",
    "612 345 678.\n",
    " ¡No te olvides de seguir a @juliacameron en redes sociales!</p>\n",
    " </div>\n",
    " <div class=\"producto\">\n",
    " <p>En esta sección, también ofrecemos <strong>Cien años de\n",
    "soledad</strong> de <em>Gabriel García Márquez</em>.\n",
    " Es un clásico, aunque el precio de <span>$12.50</span> podría\n",
    "parecer un poco alto.\n",
    " Aún así, tenemos <strong>50 unidades en stock</strong>, así\n",
    "que no dudes en preguntar.\n",
    " Puedes enviar un correo a <a\n",
    "href=\"mailto:gabriel@example.com\">gabriel@example.com</a> o marcar +57\n",
    "123 456 7890 para más detalles.</p>\n",
    " <p>Además, ¡sigue a @gabrielgarciamarquez en Twitter para\n",
    "actualizaciones!</p>\n",
    " </div>\n",
    " <div class=\"producto\">\n",
    " <p>Si te gustan las historias conmovedoras, deberías leer\n",
    "<strong>El Principito</strong>. Escrito por <em>Antoine de SaintExupéry</em>,\n",
    " este libro es ideal para reflexionar sobre la vida. El precio\n",
    "es de solo <span>$10.00</span>.\n",
    " Actualmente, tenemos <strong>120 unidades en stock</strong>,\n",
    "¡así que no te lo pierdas!</p>\n",
    " <p>Para más información, contáctame a <a\n",
    "href=\"mailto:antoine@example.com\">antoine@example.com</a> o al +33 1\n",
    "23 45 67 89.\n",
    " No te olvides de seguir a @saint_exupery para más contenido\n",
    "interesante.</p>\n",
    " </div>\n",
    " <div class=\"producto\">\n",
    " <p>He escuchado que <strong>La sombra del viento</strong> de\n",
    "<em>Carlos Ruiz Zafón</em> es un gran libro,\n",
    " y su precio es de <span>$13.75</span>. Estamos emocionados de\n",
    "tener <strong>78 unidades en stock</strong>.\n",
    " La historia es cautivadora, puedes pedir más detalles al <a\n",
    "href=\"mailto:carlos@example.com\">carlos@example.com</a> o al +34 987\n",
    "654 321.</p>\n",
    " <p>No olvides seguir a @carlosruizzafon en Instagram, ¡él\n",
    "comparte mucho contenido interesante!</p>\n",
    " </div>\n",
    " <div class=\"producto\">\n",
    " <p>Finalmente, para aquellos interesados en estrategias,\n",
    "<strong>El arte de la guerra</strong> de <em>Sun Tzu</em> es\n",
    "imprescindible.\n",
    " A solo <span>$9.99</span> y con <strong>25 unidades en\n",
    "stock</strong>, es una gran oportunidad.  Contacta a <a\n",
    "href=\"mailto:sun@example.com\">sun@example.com</a> o llama al +86 10\n",
    "1234 5678 para más información.</p>\n",
    " <p>Sigue a @suntzu para obtener más consejos estratégicos.</p>\n",
    " </div>\n",
    "\n",
    " <p>¡Gracias por visitar nuestra tienda de libros! No olvides que\n",
    "también tenemos promociones especiales, así que estate atento. Si\n",
    "necesitas ayuda, estamos aquí para ti. ¡Que tengas un gran día!</p>\n",
    "</body>\n",
    "</html>\n",
    "\"\"\"\n",
    "\n",
    "# Busca todas las etiquetas  en el HTML dado\n",
    "\n",
    "libros = re.findall(r'<strong>((?:(?!stock)[\\s\\S])*?)<\\/strong>', texto_html)\n",
    "libros = [re.sub(r'\\n', ' ', libro).strip() for libro in libros]\n",
    "# Imprime el resultado de la búsqueda\n",
    "print(libros) # Muestra una lista con todas las coincidencias encontradas"
   ]
  },
  {
   "cell_type": "code",
   "execution_count": 55,
   "id": "50b9d5ee-5c93-48eb-8ee9-61ccd9e7dae4",
   "metadata": {},
   "outputs": [
    {
     "name": "stdout",
     "output_type": "stream",
     "text": [
      "['Julia Cameron', 'Gabriel García Márquez', 'Antoine de SaintExupéry', 'Carlos Ruiz Zafón', 'Sun Tzu']\n"
     ]
    }
   ],
   "source": [
    "autores = re.findall(r'<em>(.*?)|(?:<\\/em>(', texto_html )\n",
    "# Imprime el resultado de la búsqueda\n",
    "print(autores) # Muestra una lista con todas las coincidencias encontradas"
   ]
  },
  {
   "cell_type": "code",
   "execution_count": 80,
   "id": "fa0756f4-6e96-4739-84a8-cd1462468efd",
   "metadata": {},
   "outputs": [
    {
     "name": "stdout",
     "output_type": "stream",
     "text": [
      "[]\n"
     ]
    }
   ],
   "source": [
    "correos = re.findall(r'<ahref=(.*?|)<\\/a>', texto_html)\n",
    "print(correos)"
   ]
  },
  {
   "cell_type": "code",
   "execution_count": null,
   "id": "a8dbfcb2-dbf9-4e04-97e4-b3e9f6abf58d",
   "metadata": {},
   "outputs": [],
   "source": []
  }
 ],
 "metadata": {
  "kernelspec": {
   "display_name": "Python 3 (ipykernel)",
   "language": "python",
   "name": "python3"
  },
  "language_info": {
   "codemirror_mode": {
    "name": "ipython",
    "version": 3
   },
   "file_extension": ".py",
   "mimetype": "text/x-python",
   "name": "python",
   "nbconvert_exporter": "python",
   "pygments_lexer": "ipython3",
   "version": "3.12.4"
  }
 },
 "nbformat": 4,
 "nbformat_minor": 5
}
