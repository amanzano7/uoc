{
 "cells": [
  {
   "cell_type": "code",
   "execution_count": null,
   "id": "13841dee-b133-40f8-8914-a0145dd61f54",
   "metadata": {},
   "outputs": [],
   "source": [
    "def generate_sales_report = (store_name, date, *sales_data):\n",
    "     \"\"\"\n",
    " Calcula el reporte de ventas para cada tienda, bajo los argumentos\n",
    " \n",
    " Argumentos:\n",
    " \n",
    " store_name (string): Nombre de la tienda\n",
    " date (string): Fecha de la venta\n",
    " *sales_data: Resultadode otra funcion en formato de tuplas\n",
    "\n",
    " Devuelve:\n",
    " en forma de diccionario, cada clave el nombre de la tienda por fecha: total de ventas(float), precio promedio(float), total de articulos(int), producto mas barato (tuple(string,float)), producto mas cara\n",
    "\n",
    " \"\"\"\n"
   ]
  },
  {
   "cell_type": "code",
   "execution_count": null,
   "id": "9291e651-380b-47cf-9863-a7f96ac5e9d1",
   "metadata": {},
   "outputs": [],
   "source": []
  }
 ],
 "metadata": {
  "kernelspec": {
   "display_name": "Python 3 (ipykernel)",
   "language": "python",
   "name": "python3"
  },
  "language_info": {
   "codemirror_mode": {
    "name": "ipython",
    "version": 3
   },
   "file_extension": ".py",
   "mimetype": "text/x-python",
   "name": "python",
   "nbconvert_exporter": "python",
   "pygments_lexer": "ipython3",
   "version": "3.12.4"
  }
 },
 "nbformat": 4,
 "nbformat_minor": 5
}
